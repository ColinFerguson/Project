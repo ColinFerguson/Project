{
 "cells": [
  {
   "cell_type": "code",
   "execution_count": 1,
   "metadata": {
    "collapsed": false
   },
   "outputs": [],
   "source": [
    "from test import *\n",
    "from sklearn.feature_extraction.text import CountVectorizer\n",
    "import lda\n",
    "import matplotlib.pyplot as plt\n",
    "%matplotlib inline\n",
    "import cPickle as pickle\n",
    "import re\n",
    "from bs4 import BeautifulSoup\n",
    "import time\n",
    "import random"
   ]
  },
  {
   "cell_type": "code",
   "execution_count": 2,
   "metadata": {
    "collapsed": false
   },
   "outputs": [
    {
     "name": "stdout",
     "output_type": "stream",
     "text": [
      "CPU times: user 231 ms, sys: 50.1 ms, total: 281 ms\n",
      "Wall time: 14min 22s\n"
     ]
    },
    {
     "data": {
      "text/plain": [
       "48"
      ]
     },
     "execution_count": 2,
     "metadata": {},
     "output_type": "execute_result"
    }
   ],
   "source": [
    "# %time articles, title_list, urls = get_text('http://arxiv.org/list/math.AT/1508?show=200')\n",
    "# with open(\"AT.pkl\", 'w') as f:\n",
    "#     pickle.dump(articles, f)\n",
    "# len(articles)"
   ]
  },
  {
   "cell_type": "code",
   "execution_count": 4,
   "metadata": {
    "collapsed": false
   },
   "outputs": [],
   "source": [
    "#%%time \n",
    "#url = 'http://arxiv.org/list/math.NT/1508?show=200'\n",
    "#M, topics, text, title_list, urls = get_topics(url,10)\n",
    "#best_titles, best_scores = get_best_titles(M, 3, 5, title_list)\n",
    "#print \"The ten most prevalent topics in the corpus are:\"\n",
    "#for i in range(len(topics)):\n",
    "#    print topics[i]\n",
    "#    print '\\n'\n",
    "    \n",
    "#for i in range(len(best_titles)):\n",
    "#    print best_titles[i]\n",
    "#    print \"Score: \", best_scores[i]"
   ]
  },
  {
   "cell_type": "code",
   "execution_count": 36,
   "metadata": {
    "collapsed": false
   },
   "outputs": [
    {
     "data": {
      "text/plain": [
       "<lda.lda.LDA instance at 0x112bf7998>"
      ]
     },
     "execution_count": 36,
     "metadata": {},
     "output_type": "execute_result"
    }
   ],
   "source": [
    "countvec = CountVectorizer(decode_error='ignore', stop_words='english', max_features=5000)\n",
    "CV = countvec.fit_transform(text)\n",
    "vocab=tuple(countvec.vocabulary_)\n",
    "lda_model = lda.LDA(n_topics=10, n_iter=1500)\n",
    "lda_model.fit(CV)"
   ]
  },
  {
   "cell_type": "code",
   "execution_count": 37,
   "metadata": {
    "collapsed": false
   },
   "outputs": [
    {
     "name": "stdout",
     "output_type": "stream",
     "text": [
      "discretized minimal angles residue correction short eigencurve\n",
      "\n",
      "\n",
      "realization autre hd details calculations 4π residue\n",
      "\n",
      "\n",
      "debrecen stange american discretized commutative kenneth strings\n",
      "\n",
      "\n",
      "publishing decimal setup et projected discuss department\n",
      "\n",
      "\n",
      "commutative quotients cyclic discretized residue supposed diﬀerential\n",
      "\n",
      "\n",
      "shparlinski schanuel physics complexes proposed dihua compactiﬁcation\n",
      "\n",
      "\n",
      "sage equations lapkova obtient decompose supposons gray\n",
      "\n",
      "\n",
      "residue discretized coprimality asserts eigencurve 2ω mapping\n",
      "\n",
      "\n",
      "acknowledgement residue stange matthew long dihua summing\n",
      "\n",
      "\n",
      "multi provide residue iℓ triangles conjectural discretized\n",
      "\n",
      "\n"
     ]
    }
   ],
   "source": [
    "topic_word = lda_model.topic_word_  # model.components_ also works\n",
    "n_top_words = 8\n",
    "topic_words = []\n",
    "for i, topic_dist in enumerate(topic_word):\n",
    "    topic_words.append(np.array(vocab)[np.argsort(topic_dist)][:-n_top_words:-1])\n",
    "    \n",
    "for i in range(len(topic_words)):\n",
    "    print ' '.join(topic_words[i])\n",
    "    print '\\n'"
   ]
  },
  {
   "cell_type": "code",
   "execution_count": 38,
   "metadata": {
    "collapsed": false
   },
   "outputs": [
    {
     "name": "stdout",
     "output_type": "stream",
     "text": [
      "doc: 0 topic: [u'multi' u'provide' u'residue' u'i\\u2113' u'triangles' u'conjectural'\n",
      " u'discretized']\n",
      "doc: 1 topic: [u'acknowledgement' u'residue' u'stange' u'matthew' u'long' u'dihua'\n",
      " u'summing']\n",
      "doc: 2 topic: [u'publishing' u'decimal' u'setup' u'et' u'projected' u'discuss'\n",
      " u'department']\n",
      "doc: 3 topic: [u'commutative' u'quotients' u'cyclic' u'discretized' u'residue'\n",
      " u'supposed' u'di\\ufb00erential']\n",
      "doc: 4 topic: [u'debrecen' u'stange' u'american' u'discretized' u'commutative' u'kenneth'\n",
      " u'strings']\n",
      "doc: 5 topic: [u'realization' u'autre' u'hd' u'details' u'calculations' u'4\\u03c0'\n",
      " u'residue']\n",
      "doc: 6 topic: [u'debrecen' u'stange' u'american' u'discretized' u'commutative' u'kenneth'\n",
      " u'strings']\n",
      "doc: 7 topic: [u'residue' u'discretized' u'coprimality' u'asserts' u'eigencurve'\n",
      " u'2\\u03c9' u'mapping']\n",
      "doc: 8 topic: [u'acknowledgement' u'residue' u'stange' u'matthew' u'long' u'dihua'\n",
      " u'summing']\n",
      "doc: 9 topic: [u'residue' u'discretized' u'coprimality' u'asserts' u'eigencurve'\n",
      " u'2\\u03c9' u'mapping']\n"
     ]
    }
   ],
   "source": [
    "doc_topic = lda_model.doc_topic_\n",
    "topic_most_pr = []\n",
    "for n in range(10):\n",
    "    topic_most_pr.append(doc_topic[n].argmax())\n",
    "\n",
    "for n in range(10):\n",
    "    print \"doc: {} topic: {}\".format(n, str(topic_words[topic_most_pr[n]]))"
   ]
  },
  {
   "cell_type": "code",
   "execution_count": 39,
   "metadata": {
    "collapsed": false
   },
   "outputs": [
    {
     "data": {
      "text/plain": [
       "[9, 8, 3, 4, 2, 1, 2, 7, 8, 7]"
      ]
     },
     "execution_count": 39,
     "metadata": {},
     "output_type": "execute_result"
    }
   ],
   "source": [
    "topic_most_pr"
   ]
  },
  {
   "cell_type": "code",
   "execution_count": 40,
   "metadata": {
    "collapsed": false
   },
   "outputs": [
    {
     "data": {
      "image/png": "[encoded data removed]",
      "text/plain": [
       "<matplotlib.figure.Figure at 0x1145b1710>"
      ]
     },
     "metadata": {},
     "output_type": "display_data"
    }
   ],
   "source": [
    "f, ax= plt.subplots(5, 1, figsize=(10, 10), sharex=True)\n",
    "for i, k in enumerate([9,10,12,50,32]):\n",
    "    ax[i].stem(doc_topic[k,:], linefmt='r-',\n",
    "               markerfmt='ro', basefmt='w-')\n",
    "    ax[i].set_xlim(-1, 16)\n",
    "    ax[i].set_ylim(0, 1)\n",
    "    ax[i].set_ylabel(\"Prob\")\n",
    "    ax[i].set_xlabel('Topic')\n",
    "    ax[i].set_title(\"{}\".format(title_list[k]))\n",
    "\n",
    "ax[4].set_xlabel(\"Topic\")\n",
    "\n",
    "plt.tight_layout()\n",
    "plt.show()"
   ]
  },
  {
   "cell_type": "code",
   "execution_count": 2,
   "metadata": {
    "collapsed": false
   },
   "outputs": [],
   "source": [
    "categories = ['AG', 'AT', 'AP', 'CT']\n",
    "urls = []\n",
    "for cat in categories:\n",
    "    urls.append('http://arxiv.org/list/math.{0}/1508?show=10'.format(cat))"
   ]
  },
  {
   "cell_type": "code",
   "execution_count": null,
   "metadata": {
    "collapsed": false
   },
   "outputs": [],
   "source": []
  },
  {
   "cell_type": "code",
   "execution_count": 2,
   "metadata": {
    "collapsed": false
   },
   "outputs": [
    {
     "name": "stdout",
     "output_type": "stream",
     "text": [
      "200\n",
      "32\n",
      "[u'math.NA', u'math.DG', u'math.HO', u'math.FA', u'math.DS', u'math.PR', u'math.LO', u'math.RA', u'math.NT', u'math.GR', u'math.CO', u'math.AG', u'math.GT', u'math.AC', u'math.IT', u'math.CA', u'math.AT', u'math.AP', u'math.CV', u'math.RT', u'math.CT', u'math.GN', u'math.GM', u'math.MG', u'math.OC', u'math.ST', u'math.OA', u'math.SP', u'math.MP', u'math.KT', u'math.QA', u'math.SG']\n"
     ]
    }
   ],
   "source": [
    "r = requests.get('http://lanl.arxiv.org/archive/math', headers={'User-agent': 'Mozilla/5.0'})\n",
    "soup = BeautifulSoup(r.text, 'html.parser')\n",
    "print r.status_code\n",
    "match_math = re.findall(r'math\\.\\w\\w', soup.text)\n",
    "match_math = list(set(match_math))\n",
    "print len(match_math)\n",
    "print match_math"
   ]
  },
  {
   "cell_type": "code",
   "execution_count": 4,
   "metadata": {
    "collapsed": false
   },
   "outputs": [
    {
     "name": "stdout",
     "output_type": "stream",
     "text": [
      "math_NA.pkl\n",
      "http://lanl.arxiv.org/list/math.HO/1508?show=250\n"
     ]
    }
   ],
   "source": [
    "#'http://arxiv.org/list/math.AG/1508?show=250'\n",
    "\n",
    "front = 'http://lanl.arxiv.org/list/'\n",
    "end = '/1508?show=250'\n",
    "math_urls = [front+x+end for x in match_math]\n",
    "math_tags = [x[-2:] for x in match_math]\n",
    "math_names = ['math_'+ x + '.pkl' for x in math_tags]\n",
    "print math_names[0]\n",
    "print math_urls[2]"
   ]
  },
  {
   "cell_type": "code",
   "execution_count": 5,
   "metadata": {
    "collapsed": false
   },
   "outputs": [],
   "source": [
    "#%%time \n",
    "#for url, name in zip(math_urls, math_names):\n",
    "#    stuff = get_text(url)\n",
    "#    with open(name, 'w') as f:\n",
    "#        pickle.dump(stuff, f)"
   ]
  },
  {
   "cell_type": "code",
   "execution_count": 4,
   "metadata": {
    "collapsed": false
   },
   "outputs": [
    {
     "data": {
      "text/plain": [
       "u'http://lanl.arxiv.org/list/math.PR/1508?show=250'"
      ]
     },
     "execution_count": 4,
     "metadata": {},
     "output_type": "execute_result"
    }
   ],
   "source": [
    "math_urls[5]"
   ]
  },
  {
   "cell_type": "code",
   "execution_count": null,
   "metadata": {
    "collapsed": false
   },
   "outputs": [],
   "source": []
  },
  {
   "cell_type": "code",
   "execution_count": 20,
   "metadata": {
    "collapsed": false
   },
   "outputs": [],
   "source": [
    "def get2_text(url):\n",
    "    '''Input a URL from the arxiv (page of a list of papers), return a list of\n",
    "    parsed articles (list of strings)\n",
    "    '''\n",
    "\n",
    "    #session = requesocks.session()\n",
    "\n",
    "# #Use Tor for both HTTP and HTTPS\n",
    "    #session.proxies = {'http': 'socks5://127.0.0.1:9150', 'https': 'socks5://127.0.0.1:9150'}\n",
    "\n",
    "\n",
    "#http://lanl.arxiv.org/pdf/1508.00039.pdf\n",
    "\n",
    "    base_url = url\n",
    "    r = requests.get(base_url, headers={'User-agent': 'Mozilla/5.0'})\n",
    "    #print r.status_code\n",
    "    #r = session.get(base_url, headers={'User-agent': 'Mozilla/5.0'})\n",
    "    print r.status_code\n",
    "\n",
    "    soup = BeautifulSoup(r.text, 'html.parser')\n",
    "    pdfs = soup.findAll(title = 'Download PDF')\n",
    "    links = [str(pdf).split()[1].strip('href=\"') for pdf in pdfs]\n",
    "    urls = ['http://lanl.arxiv.org'+ link for link in links]\n",
    "    titles = soup.findAll(class_=\"list-title\")\n",
    "    title_list = []\n",
    "    articles = []\n",
    "    #pool = multiprocessing.Pool(processes=4)\n",
    "    #articles = pool.map(parsePDF, urls)\n",
    "    \n",
    "    ix = 0\n",
    "    failed = []\n",
    "    while ix < len(urls): \n",
    "        print ix\n",
    "        try: \n",
    "            articles.append(parsePDF(urls[ix]))\n",
    "            title_list.append(titles[ix].text)\n",
    "            print \"Articles: \", len(articles)\n",
    "            print \"Titles: \", len(title_list)\n",
    "            time.sleep(random.randint(0,30))\n",
    "            ix += 1\n",
    "            \n",
    "        except:\n",
    "            print 'unexpected error'\n",
    "            failed.append((urls[ix], ix))\n",
    "            ix += 1\n",
    "    print 'num failed:', len(failed)\n",
    "    \n",
    "    print 'Num articles: ', len(articles)\n",
    "    \n",
    "    if len(failed):\n",
    "        jx = 0\n",
    "        for pair in failed: \n",
    "            try: \n",
    "                articles.append(parsePDF(pair[0]))\n",
    "                title_list.append(titles[pair[1]].text)\n",
    "                print \"articles: \", len(articles)\n",
    "                print \"titles: \", len(title_list)\n",
    "                time.sleep(random.randint(0,30))\n",
    "                jx += 1\n",
    "            except:\n",
    "                print 'unexpected error'\n",
    "                jx += 1\n",
    "    print 'Num articles: ', len(articles)\n",
    "            \n",
    "#    titles = soup.findAll(class_=\"list-title\")\n",
    "#    title_list = []\n",
    "#    for ix in range(len(titles)):\n",
    "#        title_list.append(titles[ix].text)\n",
    "    print r.status_code\n",
    "    return articles, title_list, urls\n",
    "    #return title_list, urls, links, pdfs"
   ]
  },
  {
   "cell_type": "code",
   "execution_count": 22,
   "metadata": {
    "collapsed": false
   },
   "outputs": [],
   "source": [
    "# math_urls = math_urls[5:]\n",
    "# math_names = math_names[5:]\n",
    "# print len(math_urls)\n",
    "# print len(math_names)\n",
    "\n",
    "# math_names = math_names[0:-1]\n",
    "# print len(math_names)\n",
    "\n",
    "# math_urls = math_urls[0:-1]\n",
    "# print len(math_urls)"
   ]
  },
  {
   "cell_type": "code",
   "execution_count": 23,
   "metadata": {
    "collapsed": false
   },
   "outputs": [
    {
     "data": {
      "text/plain": [
       "u'math_PR.pkl'"
      ]
     },
     "execution_count": 23,
     "metadata": {},
     "output_type": "execute_result"
    }
   ],
   "source": [
    "math_names[0]"
   ]
  },
  {
   "cell_type": "code",
   "execution_count": null,
   "metadata": {
    "collapsed": false
   },
   "outputs": [
    {
     "name": "stdout",
     "output_type": "stream",
     "text": [
      "200\n",
      "0\n",
      "Articles: "
     ]
    }
   ],
   "source": [
    "%%time \n",
    "stuff = get2_text(math_urls[0])\n",
    "with open(math_names[0], 'w') as f:\n",
    "    pickle.dump(stuff, f)\n",
    "#print \"sleep\"\n",
    "#time.sleep(30)"
   ]
  },
  {
   "cell_type": "code",
   "execution_count": 19,
   "metadata": {
    "collapsed": false
   },
   "outputs": [
    {
     "data": {
      "text/plain": [
       "13"
      ]
     },
     "execution_count": 19,
     "metadata": {},
     "output_type": "execute_result"
    }
   ],
   "source": [
    "random.randint(0,30)"
   ]
  },
  {
   "cell_type": "code",
   "execution_count": 5,
   "metadata": {
    "collapsed": true
   },
   "outputs": [],
   "source": [
    "t = ('x', 'y', 'z')"
   ]
  },
  {
   "cell_type": "code",
   "execution_count": 6,
   "metadata": {
    "collapsed": false
   },
   "outputs": [
    {
     "data": {
      "text/plain": [
       "tuple"
      ]
     },
     "execution_count": 6,
     "metadata": {},
     "output_type": "execute_result"
    }
   ],
   "source": [
    "type(t)"
   ]
  },
  {
   "cell_type": "code",
   "execution_count": 7,
   "metadata": {
    "collapsed": false
   },
   "outputs": [
    {
     "data": {
      "text/plain": [
       "3"
      ]
     },
     "execution_count": 7,
     "metadata": {},
     "output_type": "execute_result"
    }
   ],
   "source": [
    "len(t)"
   ]
  },
  {
   "cell_type": "code",
   "execution_count": 8,
   "metadata": {
    "collapsed": true
   },
   "outputs": [],
   "source": [
    "r = (t,'u')"
   ]
  },
  {
   "cell_type": "code",
   "execution_count": 9,
   "metadata": {
    "collapsed": false
   },
   "outputs": [
    {
     "data": {
      "text/plain": [
       "tuple"
      ]
     },
     "execution_count": 9,
     "metadata": {},
     "output_type": "execute_result"
    }
   ],
   "source": [
    "type(r)"
   ]
  },
  {
   "cell_type": "code",
   "execution_count": 10,
   "metadata": {
    "collapsed": false
   },
   "outputs": [
    {
     "data": {
      "text/plain": [
       "2"
      ]
     },
     "execution_count": 10,
     "metadata": {},
     "output_type": "execute_result"
    }
   ],
   "source": [
    "len(r)"
   ]
  },
  {
   "cell_type": "code",
   "execution_count": 12,
   "metadata": {
    "collapsed": false
   },
   "outputs": [
    {
     "data": {
      "text/plain": [
       "(('x', 'y', 'z'), 'u')"
      ]
     },
     "execution_count": 12,
     "metadata": {},
     "output_type": "execute_result"
    }
   ],
   "source": [
    "r"
   ]
  },
  {
   "cell_type": "code",
   "execution_count": 16,
   "metadata": {
    "collapsed": false
   },
   "outputs": [
    {
     "data": {
      "text/plain": [
       "0"
      ]
     },
     "execution_count": 16,
     "metadata": {},
     "output_type": "execute_result"
    }
   ],
   "source": [
    "t.index('x')"
   ]
  },
  {
   "cell_type": "code",
   "execution_count": 22,
   "metadata": {
    "collapsed": false
   },
   "outputs": [],
   "source": [
    "t += ('b',)"
   ]
  },
  {
   "cell_type": "code",
   "execution_count": 24,
   "metadata": {
    "collapsed": false
   },
   "outputs": [
    {
     "data": {
      "text/plain": [
       "4"
      ]
     },
     "execution_count": 24,
     "metadata": {},
     "output_type": "execute_result"
    }
   ],
   "source": [
    "len(t)"
   ]
  },
  {
   "cell_type": "code",
   "execution_count": 25,
   "metadata": {
    "collapsed": true
   },
   "outputs": [],
   "source": [
    "L = [('a', 'b', 'c'), ('x', 'y', 'z'), ('s', 'd', 'f')]"
   ]
  },
  {
   "cell_type": "code",
   "execution_count": 26,
   "metadata": {
    "collapsed": false
   },
   "outputs": [
    {
     "data": {
      "text/plain": [
       "[('a', 'b', 'c'), ('x', 'y', 'z'), ('s', 'd', 'f')]"
      ]
     },
     "execution_count": 26,
     "metadata": {},
     "output_type": "execute_result"
    }
   ],
   "source": [
    "L"
   ]
  },
  {
   "cell_type": "code",
   "execution_count": 27,
   "metadata": {
    "collapsed": true
   },
   "outputs": [],
   "source": [
    "T = [x+('NT',) for x in L]"
   ]
  },
  {
   "cell_type": "code",
   "execution_count": 28,
   "metadata": {
    "collapsed": false
   },
   "outputs": [
    {
     "data": {
      "text/plain": [
       "[('a', 'b', 'c', 'NT'), ('x', 'y', 'z', 'NT'), ('s', 'd', 'f', 'NT')]"
      ]
     },
     "execution_count": 28,
     "metadata": {},
     "output_type": "execute_result"
    }
   ],
   "source": [
    "T"
   ]
  },
  {
   "cell_type": "code",
   "execution_count": null,
   "metadata": {
    "collapsed": true
   },
   "outputs": [],
   "source": []
  }
 ],
 "metadata": {
  "kernelspec": {
   "display_name": "Python 2",
   "language": "python",
   "name": "python2"
  },
  "language_info": {
   "codemirror_mode": {
    "name": "ipython",
    "version": 2
   },
   "file_extension": ".py",
   "mimetype": "text/x-python",
   "name": "python",
   "nbconvert_exporter": "python",
   "pygments_lexer": "ipython2",
   "version": "2.7.10"
  }
 },
 "nbformat": 4,
 "nbformat_minor": 0
}

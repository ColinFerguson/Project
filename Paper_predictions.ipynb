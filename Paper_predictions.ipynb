{
 "cells": [
  {
   "cell_type": "code",
   "execution_count": 236,
   "metadata": {
    "collapsed": false
   },
   "outputs": [],
   "source": [
    "import pandas as pd\n",
    "import numpy as np\n",
    "import cPickle as pickle\n",
    "from test import *\n",
    "from sklearn.naive_bayes import MultinomialNB\n",
    "from sklearn.cross_validation import train_test_split\n",
    "from sklearn.metrics import accuracy_score\n",
    "from sklearn.multiclass import OneVsRestClassifier\n",
    "from sklearn.preprocessing import label_binarize\n",
    "import matplotlib.pyplot as plt\n",
    "%matplotlib inline\n",
    "from sklearn import svm\n",
    "from sklearn.metrics import roc_curve, auc\n",
    "from sklearn.linear_model import SGDClassifier, LogisticRegression\n",
    "from collections import Counter\n",
    "import seaborn as sns\n",
    "from sklearn.cross_validation import StratifiedKFold"
   ]
  },
  {
   "cell_type": "code",
   "execution_count": 118,
   "metadata": {
    "collapsed": false
   },
   "outputs": [
    {
     "name": "stdout",
     "output_type": "stream",
     "text": [
      "32\n"
     ]
    }
   ],
   "source": [
    "tags = [u'math.NA', u'math.DG', u'math.HO', u'math.FA', u'math.DS', u'math.PR', u'math.LO', u'math.RA',\\\n",
    "        u'math.NT', u'math.GR', u'math.CO', u'math.AG', u'math.GT', u'math.AC', u'math.IT', u'math.CA',\\\n",
    "        u'math.AT', u'math.AP', u'math.CV', u'math.RT', u'math.CT', u'math.GN', u'math.GM', u'math.MG',\\\n",
    "        u'math.OC', u'math.ST', u'math.OA', u'math.SP', u'math.MP', u'math.KT', u'math.QA', u'math.SG']\n",
    "print len(tags)\n"
   ]
  },
  {
   "cell_type": "code",
   "execution_count": 119,
   "metadata": {
    "collapsed": false
   },
   "outputs": [],
   "source": [
    "with open('math_NA.pkl', 'r') as f1:\n",
    "    NA_Aug = pickle.load(f1)\n",
    "    \n",
    "with open('math_DG.pkl', 'r') as f2:\n",
    "    DG_Aug = pickle.load(f2)\n",
    "    \n",
    "with open('math_HO.pkl', 'r') as f3:\n",
    "    HO_Aug = pickle.load(f3)\n",
    "    \n",
    "with open('math_FA.pkl', 'r') as f4:\n",
    "    FA_Aug = pickle.load(f4)\n",
    "    \n",
    "with open('math_DS.pkl', 'r') as f5:\n",
    "    DS_Aug = pickle.load(f5)\n",
    "    \n",
    "with open('math_PR.pkl', 'r') as f6:\n",
    "    PR_Aug = pickle.load(f6)\n",
    "    \n",
    "with open('math_LO.pkl', 'r') as f7:\n",
    "    LO_Aug = pickle.load(f7)\n",
    "    \n",
    "with open('math_RA.pkl', 'r') as f8:\n",
    "    RA_Aug = pickle.load(f8)    \n",
    "    \n",
    "    \n",
    "with open('math_NT.pkl', 'r') as f9:\n",
    "    NT_Aug = pickle.load(f9)\n",
    "    \n",
    "with open('math_GR.pkl', 'r') as f10:\n",
    "    GR_Aug = pickle.load(f10)\n",
    "    \n",
    "with open('math_CO.pkl', 'r') as f11:\n",
    "    CO_Aug = pickle.load(f11)\n",
    "    \n",
    "with open('math_AG.pkl', 'r') as f12:\n",
    "    AG_Aug = pickle.load(f12)\n",
    "    \n",
    "with open('math_GT.pkl', 'r') as f13:\n",
    "    GT_Aug = pickle.load(f13)\n",
    "    \n",
    "with open('math_AC.pkl', 'r') as f14:\n",
    "    AC_Aug = pickle.load(f14)\n",
    "    \n",
    "with open('math_IT.pkl', 'r') as f15:\n",
    "    IT_Aug = pickle.load(f15)\n",
    "    \n",
    "with open('math_CA.pkl', 'r') as f16:\n",
    "    CA_Aug = pickle.load(f16)    \n",
    "    \n",
    "with open('math_AT.pkl', 'r') as f17:\n",
    "    AT_Aug = pickle.load(f17)\n",
    "    \n",
    "with open('math_AP.pkl', 'r') as f18:\n",
    "    AP_Aug = pickle.load(f18)\n",
    "    \n",
    "with open('math_CV.pkl', 'r') as f19:\n",
    "    CV_Aug = pickle.load(f19)\n",
    "    \n",
    "with open('math_RT.pkl', 'r') as f20:\n",
    "    RT_Aug = pickle.load(f20)\n",
    "    \n",
    "with open('math_CT.pkl', 'r') as f21:\n",
    "    CT_Aug = pickle.load(f21)\n",
    "    \n",
    "with open('math_GN.pkl', 'r') as f22:\n",
    "    GN_Aug = pickle.load(f22)\n",
    "    \n",
    "with open('math_GM.pkl', 'r') as f23:\n",
    "    GM_Aug = pickle.load(f23)\n",
    "    \n",
    "with open('math_MG.pkl', 'r') as f24:\n",
    "    MG_Aug = pickle.load(f24)    \n",
    "    \n",
    "    \n",
    "with open('math_OC.pkl', 'r') as f25:\n",
    "    OC_Aug = pickle.load(f25)\n",
    "    \n",
    "with open('math_ST.pkl', 'r') as f26:\n",
    "    ST_Aug = pickle.load(f26)\n",
    "    \n",
    "with open('math_OA.pkl', 'r') as f27:\n",
    "    OA_Aug = pickle.load(f27)\n",
    "    \n",
    "with open('math_SP.pkl', 'r') as f28:\n",
    "    SP_Aug = pickle.load(f28)\n",
    "    \n",
    "with open('math_MP.pkl', 'r') as f29:\n",
    "    MP_Aug = pickle.load(f29)\n",
    "    \n",
    "with open('math_KT.pkl', 'r') as f30:\n",
    "    KT_Aug = pickle.load(f30)\n",
    "    \n",
    "with open('math_QA.pkl', 'r') as f31:\n",
    "    QA_Aug = pickle.load(f31)\n",
    "    \n",
    "with open('math_SG.pkl', 'r') as f32:\n",
    "    SG_Aug = pickle.load(f32)    "
   ]
  },
  {
   "cell_type": "code",
   "execution_count": 120,
   "metadata": {
    "collapsed": true
   },
   "outputs": [],
   "source": [
    "with open('math_NA_July.pkl', 'r') as f1:\n",
    "    NA_July = pickle.load(f1)\n",
    "    \n",
    "with open('math_DG_July.pkl', 'r') as f2:\n",
    "    DG_July = pickle.load(f2)\n",
    "    \n",
    "with open('math_HO_July.pkl', 'r') as f3:\n",
    "    HO_July = pickle.load(f3)\n",
    "    \n",
    "with open('math_FA_July.pkl', 'r') as f4:\n",
    "    FA_July = pickle.load(f4)\n",
    "    \n",
    "with open('math_DS_July.pkl', 'r') as f5:\n",
    "    DS_July = pickle.load(f5)\n",
    "    \n",
    "with open('math_PR_July.pkl', 'r') as f6:\n",
    "    PR_July = pickle.load(f6)\n",
    "    \n",
    "with open('math_LO_July.pkl', 'r') as f7:\n",
    "    LO_July = pickle.load(f7)\n",
    "    \n",
    "with open('math_RA_July.pkl', 'r') as f8:\n",
    "    RA_July = pickle.load(f8)    \n",
    "    \n",
    "    \n",
    "with open('math_NT_July.pkl', 'r') as f9:\n",
    "    NT_July = pickle.load(f9)\n",
    "    \n",
    "with open('math_GR_July.pkl', 'r') as f10:\n",
    "    GR_July = pickle.load(f10)\n",
    "    \n",
    "with open('math_CO_July.pkl', 'r') as f11:\n",
    "    CO_July = pickle.load(f11)\n",
    "    \n",
    "with open('math_AG_July.pkl', 'r') as f12:\n",
    "    AG_July = pickle.load(f12)\n",
    "    \n",
    "with open('math_GT_July.pkl', 'r') as f13:\n",
    "    GT_July = pickle.load(f13)\n",
    "    \n",
    "with open('math_AC_July.pkl', 'r') as f14:\n",
    "    AC_July = pickle.load(f14)\n",
    "    \n",
    "with open('math_IT_July.pkl', 'r') as f15:\n",
    "    IT_July = pickle.load(f15)\n",
    "    \n",
    "with open('math_CA_July.pkl', 'r') as f16:\n",
    "    CA_July = pickle.load(f16)    \n",
    "    \n",
    "with open('math_AT_July.pkl', 'r') as f17:\n",
    "    AT_July = pickle.load(f17)\n",
    "    \n",
    "with open('math_AP_July.pkl', 'r') as f18:\n",
    "    AP_July = pickle.load(f18)\n",
    "    \n",
    "with open('math_CV_July.pkl', 'r') as f19:\n",
    "    CV_July = pickle.load(f19)\n",
    "    \n",
    "with open('math_RT_July.pkl', 'r') as f20:\n",
    "    RT_July = pickle.load(f20)\n",
    "    \n",
    "with open('math_CT_July.pkl', 'r') as f21:\n",
    "    CT_July = pickle.load(f21)\n",
    "    \n",
    "with open('math_GN_July.pkl', 'r') as f22:\n",
    "    GN_July = pickle.load(f22)\n",
    "    \n",
    "with open('math_GM_July.pkl', 'r') as f23:\n",
    "    GM_July = pickle.load(f23)\n",
    "    \n",
    "with open('math_MG_July.pkl', 'r') as f24:\n",
    "    MG_July = pickle.load(f24)    \n",
    "    \n",
    "    \n",
    "with open('math_OC_July.pkl', 'r') as f25:\n",
    "    OC_July = pickle.load(f25)\n",
    "    \n",
    "with open('math_ST_July.pkl', 'r') as f26:\n",
    "    ST_July = pickle.load(f26)\n",
    "    \n",
    "with open('math_OA_July.pkl', 'r') as f27:\n",
    "    OA_July = pickle.load(f27)\n",
    "    \n",
    "with open('math_SP_July.pkl', 'r') as f28:\n",
    "    SP_July = pickle.load(f28)\n",
    "    \n",
    "with open('math_MP_July.pkl', 'r') as f29:\n",
    "    MP_July = pickle.load(f29)\n",
    "    \n",
    "with open('math_KT_July.pkl', 'r') as f30:\n",
    "    KT_July = pickle.load(f30)\n",
    "    \n",
    "with open('math_QA_July.pkl', 'r') as f31:\n",
    "    QA_July = pickle.load(f31)\n",
    "    \n",
    "with open('math_SG_July.pkl', 'r') as f32:\n",
    "    SG_July = pickle.load(f32)    "
   ]
  },
  {
   "cell_type": "code",
   "execution_count": 123,
   "metadata": {
    "collapsed": false
   },
   "outputs": [],
   "source": [
    "with open('math_NA_June.pkl', 'r') as f1:\n",
    "    NA_June = pickle.load(f1)\n",
    "    \n",
    "with open('math_DG_June.pkl', 'r') as f2:\n",
    "    DG_June = pickle.load(f2)\n",
    "    \n",
    "with open('math_HO_June.pkl', 'r') as f3:\n",
    "    HO_June = pickle.load(f3)\n",
    "    \n",
    "with open('math_FA_June.pkl', 'r') as f4:\n",
    "    FA_June = pickle.load(f4)\n",
    "    \n",
    "with open('math_DS_June.pkl', 'r') as f5:\n",
    "    DS_June = pickle.load(f5)\n",
    "    \n",
    "with open('math_PR_June.pkl', 'r') as f6:\n",
    "    PR_June = pickle.load(f6)\n",
    "    \n",
    "with open('math_LO_June.pkl', 'r') as f7:\n",
    "    LO_June = pickle.load(f7)\n",
    "    \n",
    "with open('math_RA_June.pkl', 'r') as f8:\n",
    "    RA_June = pickle.load(f8)    \n",
    "    \n",
    "    \n",
    "with open('math_NT_June.pkl', 'r') as f9:\n",
    "    NT_June = pickle.load(f9)\n",
    "    \n",
    "with open('math_GR_June.pkl', 'r') as f10:\n",
    "    GR_June = pickle.load(f10)\n",
    "    \n",
    "with open('math_CO_June.pkl', 'r') as f11:\n",
    "    CO_June = pickle.load(f11)\n",
    "    \n",
    "with open('math_AG_June.pkl', 'r') as f12:\n",
    "    AG_June = pickle.load(f12)\n",
    "    \n",
    "with open('math_GT_June.pkl', 'r') as f13:\n",
    "    GT_June = pickle.load(f13)\n",
    "    \n",
    "with open('math_AC_June.pkl', 'r') as f14:\n",
    "    AC_June = pickle.load(f14)\n",
    "    \n",
    "with open('math_IT_June.pkl', 'r') as f15:\n",
    "    IT_June = pickle.load(f15)\n",
    "    \n",
    "with open('math_CA_June.pkl', 'r') as f16:\n",
    "    CA_June = pickle.load(f16)    \n",
    "    \n",
    "with open('math_AT_June.pkl', 'r') as f17:\n",
    "    AT_June = pickle.load(f17)\n",
    "    \n",
    "with open('math_AP_June.pkl', 'r') as f18:\n",
    "    AP_June = pickle.load(f18)\n",
    "    \n",
    "with open('math_CV_June.pkl', 'r') as f19:\n",
    "    CV_June = pickle.load(f19)\n",
    "    \n",
    "with open('math_RT_June.pkl', 'r') as f20:\n",
    "    RT_June = pickle.load(f20)\n",
    "    \n",
    "with open('math_CT_June.pkl', 'r') as f21:\n",
    "    CT_June = pickle.load(f21)\n",
    "    \n",
    "with open('math_GN_June.pkl', 'r') as f22:\n",
    "    GN_June = pickle.load(f22)\n",
    "    \n",
    "with open('math_GM_June.pkl', 'r') as f23:\n",
    "    GM_June = pickle.load(f23)\n",
    "    \n",
    "with open('math_MG_June.pkl', 'r') as f24:\n",
    "    MG_June = pickle.load(f24)    \n",
    "    \n",
    "    \n",
    "with open('math_OC_June.pkl', 'r') as f25:\n",
    "    OC_June = pickle.load(f25)\n",
    "    \n",
    "with open('math_ST_June.pkl', 'r') as f26:\n",
    "    ST_June = pickle.load(f26)\n",
    "    \n",
    "with open('math_OA_June.pkl', 'r') as f27:\n",
    "    OA_June = pickle.load(f27)\n",
    "    \n",
    "with open('math_SP_June.pkl', 'r') as f28:\n",
    "    SP_June = pickle.load(f28)\n",
    "    \n",
    "with open('math_MP_June.pkl', 'r') as f29:\n",
    "    MP_June = pickle.load(f29)\n",
    "    \n",
    "with open('math_KT_June.pkl', 'r') as f30:\n",
    "    KT_June = pickle.load(f30)\n",
    "    \n",
    "with open('math_QA_June.pkl', 'r') as f31:\n",
    "    QA_June = pickle.load(f31)\n",
    "    \n",
    "with open('math_SG_June.pkl', 'r') as f32:\n",
    "    SG_June = pickle.load(f32)    "
   ]
  },
  {
   "cell_type": "code",
   "execution_count": 124,
   "metadata": {
    "collapsed": false
   },
   "outputs": [
    {
     "name": "stdout",
     "output_type": "stream",
     "text": [
      "96\n"
     ]
    }
   ],
   "source": [
    "Topics = [NA_Aug, DG_Aug, HO_Aug, FA_Aug, DS_Aug, PR_Aug, LO_Aug, RA_Aug, NT_Aug, GR_Aug, CO_Aug, AG_Aug,\\\n",
    "          GT_Aug, AC_Aug, IT_Aug, CA_Aug, AT_Aug, AP_Aug, CV_Aug, RT_Aug, CT_Aug, GN_Aug, GM_Aug, MG_Aug,\\\n",
    "          OC_Aug, ST_Aug, OA_Aug, SP_Aug, MP_Aug, KT_Aug, QA_Aug, SG_Aug,\\\n",
    "          NA_July, DG_July, HO_July, FA_July, DS_July, PR_July, LO_July, RA_July, NT_July, GR_July, CO_July, AG_July,\\\n",
    "          GT_July, AC_July, IT_July, CA_July, AT_July, AP_July, CV_July, RT_July, CT_July, GN_July, GM_July, MG_July,\\\n",
    "          OC_July, ST_July, OA_July, SP_July, MP_July, KT_July, QA_July, SG_July,\\\n",
    "          NA_June, DG_June, HO_June, FA_June, DS_June, PR_June, LO_June, RA_June, NT_June, GR_June, CO_June, AG_June,\\\n",
    "          GT_June, AC_June, IT_June, CA_June, AT_June, AP_June, CV_June, RT_June, CT_June, GN_June, GM_June, MG_June,\\\n",
    "          OC_June, ST_June, OA_June, SP_June, MP_June, KT_June, QA_June, SG_June]\n",
    "print len(Topics)"
   ]
  },
  {
   "cell_type": "code",
   "execution_count": 192,
   "metadata": {
    "collapsed": false
   },
   "outputs": [
    {
     "name": "stdout",
     "output_type": "stream",
     "text": [
      "CPU times: user 13.4 ms, sys: 13.8 ms, total: 27.2 ms\n",
      "Wall time: 21.3 ms\n"
     ]
    }
   ],
   "source": [
    "%%time\n",
    "text = []\n",
    "title_list = []\n",
    "urls = []\n",
    "labels = []\n",
    "for topic in Topics:\n",
    "    for triple in topic:\n",
    "        text.append(triple[0])\n",
    "        urls.append(triple[1])\n",
    "        title_list.append(triple[2])\n",
    "        labels.append(triple[3])"
   ]
  },
  {
   "cell_type": "code",
   "execution_count": 193,
   "metadata": {
    "collapsed": false
   },
   "outputs": [
    {
     "data": {
      "text/plain": [
       "9402"
      ]
     },
     "execution_count": 193,
     "metadata": {},
     "output_type": "execute_result"
    }
   ],
   "source": [
    "len(text)"
   ]
  },
  {
   "cell_type": "code",
   "execution_count": 194,
   "metadata": {
    "collapsed": true
   },
   "outputs": [],
   "source": [
    "math_data = {'text': text, 'url': urls, 'title': title_list, 'label': labels}"
   ]
  },
  {
   "cell_type": "code",
   "execution_count": 195,
   "metadata": {
    "collapsed": false
   },
   "outputs": [
    {
     "name": "stdout",
     "output_type": "stream",
     "text": [
      "9402\n"
     ]
    }
   ],
   "source": [
    "math_df = pd.DataFrame(math_data)\n",
    "print len(math_df)"
   ]
  },
  {
   "cell_type": "code",
   "execution_count": 196,
   "metadata": {
    "collapsed": false
   },
   "outputs": [
    {
     "data": {
      "text/html": [
       "<div>\n",
       "<table border=\"1\" class=\"dataframe\">\n",
       "  <thead>\n",
       "    <tr style=\"text-align: right;\">\n",
       "      <th></th>\n",
       "      <th>label</th>\n",
       "      <th>text</th>\n",
       "      <th>title</th>\n",
       "      <th>url</th>\n",
       "    </tr>\n",
       "  </thead>\n",
       "  <tbody>\n",
       "    <tr>\n",
       "      <th>0</th>\n",
       "      <td>NA</td>\n",
       "      <td>5\\n1\\n0\\n2\\n\\n \\n\\ng\\nu\\nA\\n1\\n\\n \\n\\n \\n \\n]\\...</td>\n",
       "      <td>\\nTitle: An extention of Babuška-Aziz's theore...</td>\n",
       "      <td>http://lanl.arxiv.org/pdf/1508.00119</td>\n",
       "    </tr>\n",
       "    <tr>\n",
       "      <th>1</th>\n",
       "      <td>NA</td>\n",
       "      <td>5\\n1\\n0\\n2\\n\\n \\n\\ng\\nu\\nA\\n2\\n\\n \\n\\n \\n \\n]\\...</td>\n",
       "      <td>\\nTitle: Improved ZZ A Posteriori Error Estima...</td>\n",
       "      <td>http://lanl.arxiv.org/pdf/1508.00191</td>\n",
       "    </tr>\n",
       "    <tr>\n",
       "      <th>2</th>\n",
       "      <td>NA</td>\n",
       "      <td>A Simple Method for Computing Singular or Near...</td>\n",
       "      <td>\\nTitle: A Simple Method for Computing Singula...</td>\n",
       "      <td>http://lanl.arxiv.org/pdf/1508.00265</td>\n",
       "    </tr>\n",
       "    <tr>\n",
       "      <th>3</th>\n",
       "      <td>NA</td>\n",
       "      <td>5\\n1\\n0\\n2\\n\\n \\n\\ng\\nu\\nA\\n2\\n\\n \\n\\n \\n \\n]\\...</td>\n",
       "      <td>\\nTitle: Path-space variational inference for ...</td>\n",
       "      <td>http://lanl.arxiv.org/pdf/1508.00289</td>\n",
       "    </tr>\n",
       "    <tr>\n",
       "      <th>4</th>\n",
       "      <td>NA</td>\n",
       "      <td>5\\n1\\n0\\n2\\n\\n \\n\\ng\\nu\\nA\\n3\\n\\n \\n\\n \\n \\n]\\...</td>\n",
       "      <td>\\nTitle: Galerkin finite element method for ge...</td>\n",
       "      <td>http://lanl.arxiv.org/pdf/1508.00294</td>\n",
       "    </tr>\n",
       "  </tbody>\n",
       "</table>\n",
       "</div>"
      ],
      "text/plain": [
       "  label                                               text  \\\n",
       "0    NA  5\\n1\\n0\\n2\\n\\n \\n\\ng\\nu\\nA\\n1\\n\\n \\n\\n \\n \\n]\\...   \n",
       "1    NA  5\\n1\\n0\\n2\\n\\n \\n\\ng\\nu\\nA\\n2\\n\\n \\n\\n \\n \\n]\\...   \n",
       "2    NA  A Simple Method for Computing Singular or Near...   \n",
       "3    NA  5\\n1\\n0\\n2\\n\\n \\n\\ng\\nu\\nA\\n2\\n\\n \\n\\n \\n \\n]\\...   \n",
       "4    NA  5\\n1\\n0\\n2\\n\\n \\n\\ng\\nu\\nA\\n3\\n\\n \\n\\n \\n \\n]\\...   \n",
       "\n",
       "                                               title  \\\n",
       "0  \\nTitle: An extention of Babuška-Aziz's theore...   \n",
       "1  \\nTitle: Improved ZZ A Posteriori Error Estima...   \n",
       "2  \\nTitle: A Simple Method for Computing Singula...   \n",
       "3  \\nTitle: Path-space variational inference for ...   \n",
       "4  \\nTitle: Galerkin finite element method for ge...   \n",
       "\n",
       "                                    url  \n",
       "0  http://lanl.arxiv.org/pdf/1508.00119  \n",
       "1  http://lanl.arxiv.org/pdf/1508.00191  \n",
       "2  http://lanl.arxiv.org/pdf/1508.00265  \n",
       "3  http://lanl.arxiv.org/pdf/1508.00289  \n",
       "4  http://lanl.arxiv.org/pdf/1508.00294  "
      ]
     },
     "execution_count": 196,
     "metadata": {},
     "output_type": "execute_result"
    }
   ],
   "source": [
    "math_df.head()"
   ]
  },
  {
   "cell_type": "code",
   "execution_count": 197,
   "metadata": {
    "collapsed": false
   },
   "outputs": [
    {
     "name": "stdout",
     "output_type": "stream",
     "text": [
      "<type 'numpy.ndarray'>\n",
      "<type 'numpy.ndarray'>\n"
     ]
    }
   ],
   "source": [
    "text_data = math_df['text'].values\n",
    "targets = math_df['label'].values\n",
    "print type(text_data)\n",
    "text_data = list(text_data)\n",
    "text_data = clean_pdf_text(text_data)\n",
    "text_data = np.array(text_data)\n",
    "print type(text_data)"
   ]
  },
  {
   "cell_type": "code",
   "execution_count": 198,
   "metadata": {
    "collapsed": false
   },
   "outputs": [],
   "source": [
    "X_train,X_test, y_train, y_test = train_test_split(text_data, targets, test_size=0.33)"
   ]
  },
  {
   "cell_type": "code",
   "execution_count": 199,
   "metadata": {
    "collapsed": false
   },
   "outputs": [
    {
     "name": "stdout",
     "output_type": "stream",
     "text": [
      "CPU times: user 12min 15s, sys: 9.98 s, total: 12min 25s\n",
      "Wall time: 12min 33s\n"
     ]
    }
   ],
   "source": [
    "%%time\n",
    "\n",
    "tfidf = TfidfVectorizer(max_features=10000, stop_words=math_stop(), \\\n",
    "                    ngram_range=(1, 2), decode_error='ignore')\n",
    "M = tfidf.fit_transform(X_train)"
   ]
  },
  {
   "cell_type": "code",
   "execution_count": 201,
   "metadata": {
    "collapsed": false
   },
   "outputs": [
    {
     "name": "stdout",
     "output_type": "stream",
     "text": [
      "0.535288430551\n"
     ]
    }
   ],
   "source": [
    "M_test = tfidf.transform(X_test)\n",
    "mnb = MultinomialNB(alpha=0.035, fit_prior=True)\n",
    "mnb.fit(M, y_train)\n",
    "preds = mnb.predict(M_test)\n",
    "print accuracy_score(preds, y_test)"
   ]
  },
  {
   "cell_type": "code",
   "execution_count": 202,
   "metadata": {
    "collapsed": false
   },
   "outputs": [
    {
     "name": "stdout",
     "output_type": "stream",
     "text": [
      "[u'AC' u'AG' u'AP' u'AT' u'CA' u'CO' u'CT' u'CV' u'DG' u'DS' u'FA' u'GM'\n",
      " u'GN' u'GR' u'GT' u'HO' u'IT' u'KT' u'LO' u'MG' u'MP' u'NA' u'NT' u'OA'\n",
      " u'OC' u'PR' u'QA' u'RA' u'RT' u'SG' u'SP' u'ST']\n",
      "[  88.  381.  449.  132.  201.  370.   71.  127.  316.  282.  196.   16.\n",
      "   37.  166.  198.   30.  346.   44.   64.   97.  492.  283.  374.   81.\n",
      "  349.  336.  105.  109.  215.   80.   78.  186.]\n"
     ]
    }
   ],
   "source": [
    "print mnb.classes_\n",
    "print mnb.class_count_"
   ]
  },
  {
   "cell_type": "code",
   "execution_count": 203,
   "metadata": {
    "collapsed": false
   },
   "outputs": [
    {
     "data": {
      "text/plain": [
       "186"
      ]
     },
     "execution_count": 203,
     "metadata": {},
     "output_type": "execute_result"
    }
   ],
   "source": [
    "len(y_train[y_train=='ST'])"
   ]
  },
  {
   "cell_type": "code",
   "execution_count": 204,
   "metadata": {
    "collapsed": false
   },
   "outputs": [
    {
     "data": {
      "text/plain": [
       "array([u'OA', u'PR', u'DS', ..., u'AG', u'IT', 'NA'], dtype=object)"
      ]
     },
     "execution_count": 204,
     "metadata": {},
     "output_type": "execute_result"
    }
   ],
   "source": [
    "y_train"
   ]
  },
  {
   "cell_type": "code",
   "execution_count": 205,
   "metadata": {
    "collapsed": false
   },
   "outputs": [],
   "source": [
    "probs = np.around(mnb.predict_proba(M_test),5)"
   ]
  },
  {
   "cell_type": "code",
   "execution_count": 206,
   "metadata": {
    "collapsed": false
   },
   "outputs": [
    {
     "name": "stdout",
     "output_type": "stream",
     "text": [
      "(3103, 32)\n",
      "<type 'numpy.ndarray'>\n"
     ]
    }
   ],
   "source": [
    "print probs.shape\n",
    "print type(probs)"
   ]
  },
  {
   "cell_type": "code",
   "execution_count": 207,
   "metadata": {
    "collapsed": false
   },
   "outputs": [
    {
     "name": "stdout",
     "output_type": "stream",
     "text": [
      "[u'MP' u'SP' u'CO' u'CO' u'MP' u'PR' u'NT' u'AC' u'RA' u'CT']\n",
      "[u'MP' u'SP' u'CO' u'CO' u'MP' u'MG' u'NT' u'AG' u'RT' u'LO']\n"
     ]
    }
   ],
   "source": [
    "#print np.around(probs[10:12], 3)\n",
    "print y_test[0:10]\n",
    "print preds[0:10]"
   ]
  },
  {
   "cell_type": "code",
   "execution_count": 208,
   "metadata": {
    "collapsed": false
   },
   "outputs": [],
   "source": [
    "diffs = []\n",
    "for ix in xrange(len(probs)):\n",
    "    top_two_indices = np.argsort(-probs[ix], kind='mergesort')[:2]\n",
    "    diffs.append(probs[ix][top_two_indices[0]] - probs[ix][top_two_indices[1]])\n",
    "diffs = np.around(diffs, 3)\n",
    "arr_diff = np.array(diffs)\n",
    "mask = arr_diff<=0.05\n",
    "close = arr_diff[mask]\n",
    "close_papers = []\n",
    "for jx in xrange(len(diffs)):\n",
    "    if diffs[jx] <= 0.05:\n",
    "        close_papers.append(jx)"
   ]
  },
  {
   "cell_type": "code",
   "execution_count": 209,
   "metadata": {
    "collapsed": false
   },
   "outputs": [
    {
     "name": "stdout",
     "output_type": "stream",
     "text": [
      "3103\n",
      "126\n",
      "126\n",
      "4.06058652917\n"
     ]
    }
   ],
   "source": [
    "print len(diffs)\n",
    "print len(close)\n",
    "print len(close_papers)\n",
    "print 100 * (len(close)) / float(len(diffs))"
   ]
  },
  {
   "cell_type": "code",
   "execution_count": null,
   "metadata": {
    "collapsed": false
   },
   "outputs": [],
   "source": []
  },
  {
   "cell_type": "code",
   "execution_count": 211,
   "metadata": {
    "collapsed": false
   },
   "outputs": [
    {
     "name": "stdout",
     "output_type": "stream",
     "text": [
      "0.546245568804\n",
      "0.546245568804\n"
     ]
    }
   ],
   "source": [
    "ovr = OneVsRestClassifier(LogisticRegression(C=1, penalty='l2'), n_jobs=-1)\n",
    "ovr.fit(M, y_train)\n",
    "preds = ovr.predict(M_test)\n",
    "print ovr.score(M_test, y_test)\n",
    "print accuracy_score(preds, y_test)"
   ]
  },
  {
   "cell_type": "code",
   "execution_count": 212,
   "metadata": {
    "collapsed": false
   },
   "outputs": [],
   "source": [
    "class_labels = math_df['label'].unique()"
   ]
  },
  {
   "cell_type": "code",
   "execution_count": 214,
   "metadata": {
    "collapsed": false
   },
   "outputs": [
    {
     "data": {
      "image/png": "[encoded data removed]",
      "text/plain": [
       "<matplotlib.figure.Figure at 0x13698e650>"
      ]
     },
     "metadata": {},
     "output_type": "display_data"
    },
    {
     "name": "stdout",
     "output_type": "stream",
     "text": [
      "CPU times: user 16min 54s, sys: 20.1 s, total: 17min 14s\n",
      "Wall time: 17min 26s\n"
     ]
    }
   ],
   "source": [
    "# %%time\n",
    "# # # Import some data to play with\n",
    "# # iris = datasets.load_iris()\n",
    "# # X = iris.data\n",
    "# # y = iris.target\n",
    "\n",
    "# # Binarize the output\n",
    "# binary_targets = label_binarize(targets, classes=math_df['label'].unique())\n",
    "# n_classes = binary_targets.shape[1]\n",
    "\n",
    "# # shuffle and split training and test sets\n",
    "# #X_train1, X_test1, y_train1, y_test1 = train_test_split(text_data, binary_targets, test_size=.33,\n",
    "#                                                     random_state=0)\n",
    "# #M_train1 = tfidf.transform(X_train1)\n",
    "# #M_test1 = tfidf.transform(X_test1)\n",
    "# # Learn to predict each class against the other\n",
    "# classifier = OneVsRestClassifier(LogisticRegression(C=1, penalty='l2'), n_jobs=-1)\n",
    "# y_score = classifier.fit(M_train1, y_train1).decision_function(M_test1)\n",
    "\n",
    "# # Compute ROC curve and ROC area for each class\n",
    "# fpr = dict()\n",
    "# tpr = dict()\n",
    "# roc_auc = dict()\n",
    "# for i in range(n_classes):\n",
    "#     fpr[i], tpr[i], _ = roc_curve(y_test1[:, i], y_score[:, i])\n",
    "#     roc_auc[i] = auc(fpr[i], tpr[i])\n",
    "\n",
    "# # Compute micro-average ROC curve and ROC area\n",
    "# fpr[\"micro\"], tpr[\"micro\"], _ = roc_curve(y_test1.ravel(), y_score.ravel())\n",
    "# roc_auc[\"micro\"] = auc(fpr[\"micro\"], tpr[\"micro\"])\n",
    "\n",
    "# # Plot of a ROC curve for a specific class\n",
    "# # plt.figure()\n",
    "# # plt.plot(fpr[2], tpr[2], label='ROC curve (area = %0.2f)' % roc_auc[2])\n",
    "# # plt.plot([0, 1], [0, 1], 'k--')\n",
    "# # plt.xlim([0.0, 1.0])\n",
    "# # plt.ylim([0.0, 1.05])\n",
    "# # plt.xlabel('False Positive Rate')\n",
    "# # plt.ylabel('True Positive Rate')\n",
    "# # plt.title('ROC example')\n",
    "# # plt.legend(loc=\"lower right\")\n",
    "# # #plt.show()\n",
    "\n",
    "# # Plot ROC curve\n",
    "# plt.figure(figsize=(20,10))\n",
    "# plt.plot(fpr[\"micro\"], tpr[\"micro\"],\n",
    "#          label='micro-average ROC curve (area = {0:0.2f})'\n",
    "#                ''.format(roc_auc[\"micro\"]))\n",
    "# for i in range(n_classes):\n",
    "#     plt.plot(fpr[i], tpr[i], label='ROC curve of class {0} (area = {1:0.2f})'\n",
    "#                                    ''.format(class_labels[i], roc_auc[i]))\n",
    "\n",
    "# plt.plot([0, 1], [0, 1], 'k--')\n",
    "# plt.xlim([0.0, 1.0])\n",
    "# plt.ylim([0.0, 1.05])\n",
    "# plt.xlabel('FPR')\n",
    "# plt.ylabel('TPR')\n",
    "# plt.title('ROC for math subject categories')\n",
    "# #plt.legend(loc=\"lower right\")\n",
    "# plt.show()"
   ]
  },
  {
   "cell_type": "code",
   "execution_count": 215,
   "metadata": {
    "collapsed": false
   },
   "outputs": [
    {
     "data": {
      "text/plain": [
       "[(0.78700627537836831, u'GM'),\n",
       " (0.92506141623687266, u'DS'),\n",
       " (0.92740763937820225, u'MP'),\n",
       " (0.92930202913472204, u'CA'),\n",
       " (0.93728383170614249, u'RT'),\n",
       " (0.94073250366725025, u'FA'),\n",
       " (0.95023793895635045, u'QA'),\n",
       " (0.95267217630853995, u'GR'),\n",
       " (0.95328272690777716, u'AG'),\n",
       " (0.95371075738743438, u'CV'),\n",
       " (0.95378897138685614, u'CO'),\n",
       " (0.95516672079679554, u'KT'),\n",
       " (0.95612964174115267, u'SP'),\n",
       " (0.95804354937349767, u'MG'),\n",
       " (0.96095055387090778, u'DG'),\n",
       " (0.96753546849595762, u'AT'),\n",
       " (0.96870023419203743, u'PR'),\n",
       " (0.9700225866377985, u'AC'),\n",
       " (0.97121445436813469, u'AP'),\n",
       " (0.97195598614378598, u'NT'),\n",
       " (0.97196262977312919, 'NA'),\n",
       " (0.97286546233730409, u'RA'),\n",
       " (0.97305337005926007, u'OC'),\n",
       " (0.97441579978893422, u'ST'),\n",
       " (0.97542166000887709, u'GT'),\n",
       " (0.97769223176389297, u'SG'),\n",
       " (0.98103727714748779, u'HO'),\n",
       " (0.98239695087521173, u'LO'),\n",
       " (0.98444262964475304, u'IT'),\n",
       " (0.98548448612388662, u'CT'),\n",
       " (0.98619665045921123, u'GN'),\n",
       " (0.98647159647404503, u'OA')]"
      ]
     },
     "execution_count": 215,
     "metadata": {},
     "output_type": "execute_result"
    }
   ],
   "source": [
    "for ix in xrange(len(class_labels)):\n",
    "    roc_auc[ix] = roc_auc[ix], class_labels[ix]\n",
    "L = [roc_auc[key] for key in roc_auc]\n",
    "L.pop()\n",
    "K = sorted(L, key=lambda x: x[0])\n",
    "K"
   ]
  },
  {
   "cell_type": "code",
   "execution_count": null,
   "metadata": {
    "collapsed": true
   },
   "outputs": [],
   "source": []
  },
  {
   "cell_type": "code",
   "execution_count": 216,
   "metadata": {
    "collapsed": false
   },
   "outputs": [],
   "source": [
    "mask_NT = np.where(y_test=='NT')\n",
    "NT_length = len(y_test[y_test=='NT'])\n",
    "\n",
    "mask_AG = np.where(y_test=='AG')\n",
    "AG_length = len(y_test[y_test=='AG'])\n",
    "\n",
    "mask_GR = np.where(y_test=='GR')\n",
    "GR_length = len(y_test[y_test=='GR'])\n",
    "\n",
    "mask_IT = np.where(y_test=='IT')\n",
    "IT_length = len(y_test[y_test=='IT'])\n",
    "mask_NA = np.where(y_test=='NA')"
   ]
  },
  {
   "cell_type": "code",
   "execution_count": 217,
   "metadata": {
    "collapsed": false
   },
   "outputs": [],
   "source": [
    "NT_counts = Counter(preds[mask_NT])\n",
    "AG_counts = Counter(preds[mask_AG])\n",
    "GR_counts = Counter(preds[mask_GR])\n",
    "IT_counts = Counter(preds[mask_IT])\n",
    "NA_counts = Counter(preds[mask_NA])"
   ]
  },
  {
   "cell_type": "code",
   "execution_count": 218,
   "metadata": {
    "collapsed": false
   },
   "outputs": [
    {
     "name": "stdout",
     "output_type": "stream",
     "text": [
      "Counter({u'NA': 96, u'MP': 8, u'AP': 7, u'OC': 5, u'IT': 4, u'DG': 3, u'PR': 2, u'CO': 1, u'CA': 1, u'SP': 1, u'ST': 1})\n",
      "Counter({u'AG': 113, u'NT': 21, u'CO': 10, u'MP': 9, u'RT': 8, u'AC': 7, u'CT': 5, u'DG': 3, u'IT': 2, u'AT': 2, u'GT': 1, u'NA': 1, u'LO': 1, u'RA': 1, u'ST': 1, u'FA': 1, u'SG': 1, u'GR': 1})\n",
      "Counter({u'GR': 28, u'GT': 8, u'RT': 6, u'CO': 6, u'FA': 4, u'MP': 4, u'DS': 4, u'AG': 3, u'NT': 3, u'PR': 2, u'AC': 1, u'OA': 1, u'GN': 1, u'AT': 1, u'RA': 1})\n",
      "Counter({u'IT': 121, u'PR': 11, u'OC': 11, u'ST': 7, u'CO': 4, u'MP': 3, u'NA': 2, u'NT': 2})\n"
     ]
    }
   ],
   "source": [
    "print NA_counts\n",
    "print AG_counts\n",
    "print GR_counts\n",
    "print IT_counts"
   ]
  },
  {
   "cell_type": "code",
   "execution_count": 219,
   "metadata": {
    "collapsed": false
   },
   "outputs": [],
   "source": [
    "NT_correct = NT_counts['NT'] / float(NT_length)\n",
    "AG_correct = AG_counts['AG'] / float(AG_length)\n",
    "GR_correct = GR_counts['GR'] / float(GR_length)\n",
    "IT_correct = IT_counts['IT'] / float(IT_length)"
   ]
  },
  {
   "cell_type": "code",
   "execution_count": 220,
   "metadata": {
    "collapsed": false
   },
   "outputs": [
    {
     "name": "stdout",
     "output_type": "stream",
     "text": [
      "0.675824175824\n",
      "0.601063829787\n",
      "0.383561643836\n",
      "0.751552795031\n"
     ]
    }
   ],
   "source": [
    "print NT_correct\n",
    "print AG_correct\n",
    "print GR_correct\n",
    "print IT_correct"
   ]
  },
  {
   "cell_type": "code",
   "execution_count": 221,
   "metadata": {
    "collapsed": false
   },
   "outputs": [],
   "source": [
    "NT_most_missed = sorted([(key, NT_counts[key]) for key in NT_counts], key=lambda x: x[1])[-2][0]\n",
    "AG_most_missed = sorted([(key, AG_counts[key]) for key in NT_counts], key=lambda x: x[1])[-2][0]\n",
    "GR_most_missed = sorted([(key, GR_counts[key]) for key in NT_counts], key=lambda x: x[1])[-2][0]\n",
    "IT_most_missed = sorted([(key, IT_counts[key]) for key in NT_counts], key=lambda x: x[1])[-2][0]\n"
   ]
  },
  {
   "cell_type": "code",
   "execution_count": 222,
   "metadata": {
    "collapsed": false
   },
   "outputs": [
    {
     "name": "stdout",
     "output_type": "stream",
     "text": [
      "CO\n",
      "NT\n",
      "GT\n",
      "PR\n"
     ]
    }
   ],
   "source": [
    "print NT_most_missed\n",
    "print AG_most_missed\n",
    "print GR_most_missed\n",
    "print IT_most_missed"
   ]
  },
  {
   "cell_type": "code",
   "execution_count": 223,
   "metadata": {
    "collapsed": false
   },
   "outputs": [
    {
     "data": {
      "text/plain": [
       "array(['NA', u'DG', u'HO', u'FA', u'DS', u'PR', u'LO', u'RA', u'NT', u'GR',\n",
       "       u'CO', u'AG', u'GT', u'AC', u'IT', u'CA', u'AT', u'AP', u'CV',\n",
       "       u'RT', u'CT', u'GN', u'GM', u'MG', u'OC', u'ST', u'OA', u'SP',\n",
       "       u'MP', u'KT', u'QA', u'SG'], dtype=object)"
      ]
     },
     "execution_count": 223,
     "metadata": {},
     "output_type": "execute_result"
    }
   ],
   "source": [
    "class_labels"
   ]
  },
  {
   "cell_type": "code",
   "execution_count": 224,
   "metadata": {
    "collapsed": true
   },
   "outputs": [],
   "source": [
    "names = {'AG': 'Algebraic Geometry', 'AT': 'Algebraic Topology',\\\n",
    "         'AP': 'Analysis of PDEs', 'CT': 'Category Theory',\\\n",
    "         'CA': 'Classical Analysis and ODEs', 'CO': 'Combinatorics',\\\n",
    "         'AC': 'Commutative Algebra', 'CV': 'Complex Variables',\\\n",
    "         'DG': 'Differential Geometry', 'DS': 'Dynamical Systems',\\\n",
    "         'FA': 'Functional Analysis', 'GM': 'General Mathematics',\\\n",
    "         'GN': 'General Topology', 'GT': 'Geometric Topology',\\\n",
    "         'GR': 'Group Theory', 'HO': 'History and Overview',\\\n",
    "         'IT': 'Information Theory', 'KT': 'K-Theory and Homology',\\\n",
    "         'LO': 'Logic', 'MP': 'Mathematical Physics',\\\n",
    "         'MG': 'Metric Geometry', 'NT': 'Number Theory',\\\n",
    "         'NA': 'Numerical Analysis', 'OA': 'Operator Algebras',\\\n",
    "         'OC': 'Optimization and Control', 'PR': 'Probability',\\\n",
    "         'QA': 'Quantum Algebra', 'RT': 'Representation Theory',\\\n",
    "         'RA': 'Rings and Algebras', 'SP': 'Spectral Theory',\\\n",
    "         'ST': 'Statistics Theory', 'SG': 'Symplectic Geometry'}\n",
    "         "
   ]
  },
  {
   "cell_type": "code",
   "execution_count": 225,
   "metadata": {
    "collapsed": false
   },
   "outputs": [],
   "source": [
    "def two_best(index):\n",
    "    \n",
    "    top_two_indices = np.argsort(-probs[index], kind='mergesort')[:2]\n",
    "    print \"Index: \", index\n",
    "    print \"Best match is {0} with probability {1}\".format(names[mnb.classes_[top_two_indices][0]], probs[index][top_two_indices[0]])\n",
    "    print \"Second best is {0} with probability {1}\".format(names[mnb.classes_[top_two_indices][1]], probs[index][top_two_indices[1]])\n",
    "    return "
   ]
  },
  {
   "cell_type": "code",
   "execution_count": 226,
   "metadata": {
    "collapsed": true
   },
   "outputs": [],
   "source": [
    "def classification_info(category):\n",
    "    mask = np.where(y_test==category)\n",
    "    counts = Counter(preds[mask])\n",
    "    length = len(y_test[y_test==category])\n",
    "    try:\n",
    "        correct = np.around(counts[category] / float(length), 3)\n",
    "    except:\n",
    "        correct = 0\n",
    "    most_missed = sorted([(key, counts[key]) for key in counts], key=lambda x: x[1])[-2][0]\n",
    "    print \"{0}: \".format(names[category])\n",
    "    print \"Classified correctly {0} percent of the time\".format(100 * correct)\n",
    "    print \"Most commonly misclassified as {0} ({1} out of {2} times)\".format(names[most_missed], counts[most_missed], length)\n",
    "    return"
   ]
  },
  {
   "cell_type": "code",
   "execution_count": 227,
   "metadata": {
    "collapsed": false
   },
   "outputs": [
    {
     "data": {
      "text/plain": [
       "Counter({u'NT': 123, u'CO': 14, u'AG': 13, u'RT': 5, u'DS': 5, u'CA': 4, u'MP': 4, u'PR': 3, u'GR': 3, u'IT': 3, u'GT': 2, u'MG': 1, u'DG': 1, u'CT': 1})"
      ]
     },
     "execution_count": 227,
     "metadata": {},
     "output_type": "execute_result"
    }
   ],
   "source": [
    "NT_counts"
   ]
  },
  {
   "cell_type": "code",
   "execution_count": 228,
   "metadata": {
    "collapsed": false
   },
   "outputs": [
    {
     "data": {
      "text/plain": [
       "3"
      ]
     },
     "execution_count": 228,
     "metadata": {},
     "output_type": "execute_result"
    }
   ],
   "source": [
    "NT_counts['IT']"
   ]
  },
  {
   "cell_type": "code",
   "execution_count": 229,
   "metadata": {
    "collapsed": true
   },
   "outputs": [],
   "source": [
    "Heat = np.zeros(32 * 32).reshape(32,32)"
   ]
  },
  {
   "cell_type": "code",
   "execution_count": 230,
   "metadata": {
    "collapsed": false
   },
   "outputs": [],
   "source": [
    "Heat_df = pd.DataFrame(Heat, index=class_labels, columns=class_labels)"
   ]
  },
  {
   "cell_type": "code",
   "execution_count": 231,
   "metadata": {
    "collapsed": false
   },
   "outputs": [
    {
     "data": {
      "text/plain": [
       "array(['NA', u'DG', u'HO', u'FA', u'DS', u'PR', u'LO', u'RA', u'NT', u'GR',\n",
       "       u'CO', u'AG', u'GT', u'AC', u'IT', u'CA', u'AT', u'AP', u'CV',\n",
       "       u'RT', u'CT', u'GN', u'GM', u'MG', u'OC', u'ST', u'OA', u'SP',\n",
       "       u'MP', u'KT', u'QA', u'SG'], dtype=object)"
      ]
     },
     "execution_count": 231,
     "metadata": {},
     "output_type": "execute_result"
    }
   ],
   "source": [
    "class_labels"
   ]
  },
  {
   "cell_type": "code",
   "execution_count": 232,
   "metadata": {
    "collapsed": true
   },
   "outputs": [],
   "source": [
    "for label in class_labels:\n",
    "    mask = np.where(y_test==label)\n",
    "    counts = Counter(preds[mask])\n",
    "    for other_label in class_labels:\n",
    "        Heat_df[label][other_label] = counts[other_label] "
   ]
  },
  {
   "cell_type": "code",
   "execution_count": 233,
   "metadata": {
    "collapsed": false
   },
   "outputs": [
    {
     "data": {
      "text/html": [
       "<div>\n",
       "<table border=\"1\" class=\"dataframe\">\n",
       "  <thead>\n",
       "    <tr style=\"text-align: right;\">\n",
       "      <th></th>\n",
       "      <th>NA</th>\n",
       "      <th>DG</th>\n",
       "      <th>HO</th>\n",
       "      <th>FA</th>\n",
       "      <th>DS</th>\n",
       "      <th>PR</th>\n",
       "      <th>LO</th>\n",
       "      <th>RA</th>\n",
       "      <th>NT</th>\n",
       "      <th>GR</th>\n",
       "      <th>...</th>\n",
       "      <th>GM</th>\n",
       "      <th>MG</th>\n",
       "      <th>OC</th>\n",
       "      <th>ST</th>\n",
       "      <th>OA</th>\n",
       "      <th>SP</th>\n",
       "      <th>MP</th>\n",
       "      <th>KT</th>\n",
       "      <th>QA</th>\n",
       "      <th>SG</th>\n",
       "    </tr>\n",
       "  </thead>\n",
       "  <tbody>\n",
       "    <tr>\n",
       "      <th>NA</th>\n",
       "      <td>96</td>\n",
       "      <td>0</td>\n",
       "      <td>1</td>\n",
       "      <td>2</td>\n",
       "      <td>3</td>\n",
       "      <td>6</td>\n",
       "      <td>0</td>\n",
       "      <td>0</td>\n",
       "      <td>0</td>\n",
       "      <td>0</td>\n",
       "      <td>...</td>\n",
       "      <td>1</td>\n",
       "      <td>0</td>\n",
       "      <td>15</td>\n",
       "      <td>1</td>\n",
       "      <td>0</td>\n",
       "      <td>1</td>\n",
       "      <td>2</td>\n",
       "      <td>0</td>\n",
       "      <td>0</td>\n",
       "      <td>1</td>\n",
       "    </tr>\n",
       "    <tr>\n",
       "      <th>DG</th>\n",
       "      <td>3</td>\n",
       "      <td>88</td>\n",
       "      <td>0</td>\n",
       "      <td>1</td>\n",
       "      <td>1</td>\n",
       "      <td>1</td>\n",
       "      <td>0</td>\n",
       "      <td>0</td>\n",
       "      <td>1</td>\n",
       "      <td>0</td>\n",
       "      <td>...</td>\n",
       "      <td>0</td>\n",
       "      <td>4</td>\n",
       "      <td>2</td>\n",
       "      <td>0</td>\n",
       "      <td>1</td>\n",
       "      <td>3</td>\n",
       "      <td>16</td>\n",
       "      <td>0</td>\n",
       "      <td>1</td>\n",
       "      <td>5</td>\n",
       "    </tr>\n",
       "    <tr>\n",
       "      <th>HO</th>\n",
       "      <td>0</td>\n",
       "      <td>0</td>\n",
       "      <td>2</td>\n",
       "      <td>0</td>\n",
       "      <td>0</td>\n",
       "      <td>0</td>\n",
       "      <td>0</td>\n",
       "      <td>0</td>\n",
       "      <td>0</td>\n",
       "      <td>0</td>\n",
       "      <td>...</td>\n",
       "      <td>0</td>\n",
       "      <td>0</td>\n",
       "      <td>0</td>\n",
       "      <td>0</td>\n",
       "      <td>0</td>\n",
       "      <td>0</td>\n",
       "      <td>0</td>\n",
       "      <td>0</td>\n",
       "      <td>0</td>\n",
       "      <td>0</td>\n",
       "    </tr>\n",
       "    <tr>\n",
       "      <th>FA</th>\n",
       "      <td>0</td>\n",
       "      <td>0</td>\n",
       "      <td>0</td>\n",
       "      <td>41</td>\n",
       "      <td>2</td>\n",
       "      <td>0</td>\n",
       "      <td>0</td>\n",
       "      <td>0</td>\n",
       "      <td>0</td>\n",
       "      <td>4</td>\n",
       "      <td>...</td>\n",
       "      <td>0</td>\n",
       "      <td>3</td>\n",
       "      <td>3</td>\n",
       "      <td>0</td>\n",
       "      <td>10</td>\n",
       "      <td>6</td>\n",
       "      <td>3</td>\n",
       "      <td>0</td>\n",
       "      <td>1</td>\n",
       "      <td>0</td>\n",
       "    </tr>\n",
       "    <tr>\n",
       "      <th>DS</th>\n",
       "      <td>0</td>\n",
       "      <td>2</td>\n",
       "      <td>1</td>\n",
       "      <td>3</td>\n",
       "      <td>83</td>\n",
       "      <td>3</td>\n",
       "      <td>2</td>\n",
       "      <td>1</td>\n",
       "      <td>5</td>\n",
       "      <td>4</td>\n",
       "      <td>...</td>\n",
       "      <td>0</td>\n",
       "      <td>3</td>\n",
       "      <td>0</td>\n",
       "      <td>1</td>\n",
       "      <td>1</td>\n",
       "      <td>0</td>\n",
       "      <td>4</td>\n",
       "      <td>1</td>\n",
       "      <td>0</td>\n",
       "      <td>3</td>\n",
       "    </tr>\n",
       "  </tbody>\n",
       "</table>\n",
       "<p>5 rows × 32 columns</p>\n",
       "</div>"
      ],
      "text/plain": [
       "    NA  DG  HO  FA  DS  PR  LO  RA  NT  GR ...  GM  MG  OC  ST  OA  SP  MP  \\\n",
       "NA  96   0   1   2   3   6   0   0   0   0 ...   1   0  15   1   0   1   2   \n",
       "DG   3  88   0   1   1   1   0   0   1   0 ...   0   4   2   0   1   3  16   \n",
       "HO   0   0   2   0   0   0   0   0   0   0 ...   0   0   0   0   0   0   0   \n",
       "FA   0   0   0  41   2   0   0   0   0   4 ...   0   3   3   0  10   6   3   \n",
       "DS   0   2   1   3  83   3   2   1   5   4 ...   0   3   0   1   1   0   4   \n",
       "\n",
       "    KT  QA  SG  \n",
       "NA   0   0   1  \n",
       "DG   0   1   5  \n",
       "HO   0   0   0  \n",
       "FA   0   1   0  \n",
       "DS   1   0   3  \n",
       "\n",
       "[5 rows x 32 columns]"
      ]
     },
     "execution_count": 233,
     "metadata": {},
     "output_type": "execute_result"
    }
   ],
   "source": [
    "Heat_df.head()"
   ]
  },
  {
   "cell_type": "code",
   "execution_count": 235,
   "metadata": {
    "collapsed": false
   },
   "outputs": [
    {
     "data": {
      "text/plain": [
       "<matplotlib.text.Text at 0x126ded890>"
      ]
     },
     "execution_count": 235,
     "metadata": {},
     "output_type": "execute_result"
    },
    {
     "data": {
      "image/png": "[encoded data removed]",
      "text/plain": [
       "<matplotlib.figure.Figure at 0x16d2d0d50>"
      ]
     },
     "metadata": {},
     "output_type": "display_data"
    }
   ],
   "source": [
    "# plt.figure(figsize=(22,10))\n",
    "# ax = sns.heatmap(Heat_df, annot=True, linewidths=1, robust=True, linecolor='green')\n",
    "# plt.title('Classification rates')"
   ]
  },
  {
   "cell_type": "code",
   "execution_count": 245,
   "metadata": {
    "collapsed": false
   },
   "outputs": [],
   "source": [
    "fold = StratifiedKFold(targets, n_folds=5, shuffle=True)"
   ]
  },
  {
   "cell_type": "code",
   "execution_count": 277,
   "metadata": {
    "collapsed": false
   },
   "outputs": [],
   "source": [
    "training_data = []\n",
    "training_targets = []\n",
    "testing_data = []\n",
    "testing_targets = []\n",
    "for x, y in fold:\n",
    "    training_data.append(text_data[x])\n",
    "    training_targets.append(targets[x])\n",
    "    testing_data.append(text_data[y])\n",
    "    testing_targets.append(targets[y])"
   ]
  },
  {
   "cell_type": "code",
   "execution_count": 278,
   "metadata": {
    "collapsed": false
   },
   "outputs": [
    {
     "data": {
      "text/plain": [
       "list"
      ]
     },
     "execution_count": 278,
     "metadata": {},
     "output_type": "execute_result"
    }
   ],
   "source": [
    "type(training_data)"
   ]
  },
  {
   "cell_type": "code",
   "execution_count": 282,
   "metadata": {
    "collapsed": false
   },
   "outputs": [
    {
     "data": {
      "text/plain": [
       "7509"
      ]
     },
     "execution_count": 282,
     "metadata": {},
     "output_type": "execute_result"
    }
   ],
   "source": [
    "len(training_data[0])"
   ]
  },
  {
   "cell_type": "code",
   "execution_count": 288,
   "metadata": {
    "collapsed": false
   },
   "outputs": [
    {
     "data": {
      "text/plain": [
       "5"
      ]
     },
     "execution_count": 288,
     "metadata": {},
     "output_type": "execute_result"
    }
   ],
   "source": [
    "len(training_targets)"
   ]
  },
  {
   "cell_type": "code",
   "execution_count": null,
   "metadata": {
    "collapsed": false
   },
   "outputs": [
    {
     "name": "stdout",
     "output_type": "stream",
     "text": [
      "0.546222926572\n",
      "0.546222926572\n"
     ]
    }
   ],
   "source": [
    "%%time\n",
    "\n",
    "Heats = []\n",
    "for ix in range(5):\n",
    "    \n",
    "    tfidf_kfold = TfidfVectorizer(max_features=5000, stop_words=math_stop(), \\\n",
    "                        ngram_range=(1, 2), decode_error='ignore')\n",
    "    M_kfold = tfidf_kfold.fit_transform(training_data[ix])\n",
    "    M_test_kfold = tfidf_kfold.transform(testing_data[ix])\n",
    "    ovr = OneVsRestClassifier(LogisticRegression(C=1, penalty='l2'), n_jobs=-1)\n",
    "    ovr.fit(M_kfold, training_targets[ix])\n",
    "    preds = ovr.predict(M_test_kfold)\n",
    "    print ovr.score(M_test_kfold, testing_targets[ix])\n",
    "    print accuracy_score(preds, testing_targets[ix])\n",
    "\n",
    "    Heat = np.zeros(32 * 32).reshape(32,32)\n",
    "    Heat_df = pd.DataFrame(Heat, index=class_labels, columns=class_labels)\n",
    "    for label in class_labels:\n",
    "        mask = np.where(testing_targets[ix]==label)\n",
    "        counts = Counter(preds[mask])\n",
    "        for other_label in class_labels:\n",
    "            Heat_df[label][other_label] = counts[other_label] \n",
    "    Heats.append(Heat_df)"
   ]
  },
  {
   "cell_type": "code",
   "execution_count": null,
   "metadata": {
    "collapsed": true
   },
   "outputs": [],
   "source": []
  }
 ],
 "metadata": {
  "kernelspec": {
   "display_name": "Python 2",
   "language": "python",
   "name": "python2"
  },
  "language_info": {
   "codemirror_mode": {
    "name": "ipython",
    "version": 2
   },
   "file_extension": ".py",
   "mimetype": "text/x-python",
   "name": "python",
   "nbconvert_exporter": "python",
   "pygments_lexer": "ipython2",
   "version": "2.7.10"
  }
 },
 "nbformat": 4,
 "nbformat_minor": 0
}

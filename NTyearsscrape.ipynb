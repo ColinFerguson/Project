{
 "cells": [
  {
   "cell_type": "code",
   "execution_count": 15,
   "metadata": {
    "collapsed": true
   },
   "outputs": [],
   "source": [
    "import requests\n",
    "from bs4 import BeautifulSoup\n",
    "import cPickle as pickle\n",
    "import time\n",
    "from test import *\n",
    "import random"
   ]
  },
  {
   "cell_type": "code",
   "execution_count": 16,
   "metadata": {
    "collapsed": false
   },
   "outputs": [
    {
     "name": "stdout",
     "output_type": "stream",
     "text": [
      "36\n",
      "36\n",
      "36\n"
     ]
    }
   ],
   "source": [
    "# http://lanl.arxiv.org/list/math.NT/1412?show=250\n",
    "dates = []\n",
    "for year in ['14','13','12']:\n",
    "    for i in range(12,0, -1):\n",
    "        if len(str(i)) == 1:\n",
    "            dates.append(year+'0'+str(i))\n",
    "        else:\n",
    "            dates.append(year+str(i))\n",
    "#good_dates = dates[3:]\n",
    "print len(dates)\n",
    "\n",
    "front = 'http://lanl.arxiv.org/list/math.NT/'\n",
    "end = '?show=250'\n",
    "NT_urls = [front+x+end for x in dates]\n",
    "\n",
    "print len(NT_urls)\n",
    "\n",
    "NT_names = ['NT_'+date+'.pkl' for date in dates]\n",
    "\n",
    "NT_names_new = ['NT_'+date+'_new.pkl' for date in dates]\n",
    "\n",
    "small_NT_urls = NT_urls[:9]\n",
    "small_NT_names = NT_names_new[:9]\n",
    "\n",
    "print len(NT_names)"
   ]
  },
  {
   "cell_type": "code",
   "execution_count": 18,
   "metadata": {
    "collapsed": false
   },
   "outputs": [
    {
     "data": {
      "text/plain": [
       "'http://lanl.arxiv.org/list/math.NT/1404?show=250'"
      ]
     },
     "execution_count": 18,
     "metadata": {},
     "output_type": "execute_result"
    }
   ],
   "source": [
    "NT_urls[8]"
   ]
  },
  {
   "cell_type": "code",
   "execution_count": 19,
   "metadata": {
    "collapsed": true
   },
   "outputs": [],
   "source": [
    "def get_text2(url):\n",
    "    '''Input a URL from the arxiv (page of a list of papers), return a list of\n",
    "    parsed articles (list of strings)\n",
    "    '''\n",
    "\n",
    "    #session = requesocks.session()\n",
    "\n",
    "# #Use Tor for both HTTP and HTTPS\n",
    "    #session.proxies = {'http': 'socks5://127.0.0.1:9150', 'https': 'socks5://127.0.0.1:9150'}\n",
    "\n",
    "\n",
    "#http://lanl.arxiv.org/pdf/1508.00039.pdf\n",
    "\n",
    "    base_url = url\n",
    "    r = requests.get(base_url, headers={'User-agent': 'Mozilla/5.0'})\n",
    "    #print r.status_code\n",
    "    #r = session.get(base_url, headers={'User-agent': 'Mozilla/5.0'})\n",
    "    print \"Status: \", r.status_code\n",
    "\n",
    "    soup = BeautifulSoup(r.text, 'html.parser')\n",
    "    pdfs = soup.findAll(title = 'Download PDF')\n",
    "    links = [str(pdf).split()[1].strip('href=\"') for pdf in pdfs]\n",
    "    urls = ['http://lanl.arxiv.org'+ link for link in links]\n",
    "    titles = soup.findAll(class_=\"list-title\")\n",
    "    title_list = []\n",
    "    for ix in range(len(titles)):\n",
    "        title_list.append(titles[ix].text)\n",
    "    url_title = zip(urls, title_list)\n",
    "    \n",
    "    articles = []\n",
    "    failed = []\n",
    "    good_urls = []\n",
    "    pool = multiprocessing.Pool(processes=4)\n",
    "    articles = pool.map(parsePDF2, url_title)\n",
    "    \n",
    "#     index = 0\n",
    "#     for url in urls:\n",
    "#         print index\n",
    "#         try:\n",
    "#             text = parsePDF(url)\n",
    "#             articles.append(text)\n",
    "#             title_list.append(titles[index].text)\n",
    "#             good_urls.append(url)\n",
    "#             print \"Articles: \", len(articles)\n",
    "#             print \"Titles: \", len(title_list)\n",
    "#             x=random.randint(0,30)\n",
    "#             print \"Sleep now, {0} seconds\".format(x)\n",
    "#             time.sleep(x)\n",
    "#             index += 1\n",
    "#         except:\n",
    "#             print 'unexpected error'\n",
    "#             failed.append((url, index))\n",
    "#             print \"Num Failed: \", len(failed)\n",
    "#             index += 1\n",
    "    \n",
    "\n",
    "#     for pair in failed: \n",
    "#         print pair[0]\n",
    "#         try: \n",
    "#             articles.append(parsePDF(pair[0]))\n",
    "#             title_list.append(titles[pair[1]].text)\n",
    "#             good_urls.append(pair[0])\n",
    "#             print \"articles: \", len(articles)\n",
    "#             print \"titles: \", len(title_list)\n",
    "#             x=random.randint(0,30)\n",
    "#             print \"Sleep now, {0} seconds\".format(x)\n",
    "#             time.sleep(random.randint(0,30))\n",
    "#         except:\n",
    "#             print 'unexpected error'\n",
    "            \n",
    "#     print 'Num failures: ', len(failed)\n",
    "#     print 'Num articles: ', len(articles)\n",
    "            \n",
    "#    titles = soup.findAll(class_=\"list-title\")\n",
    "#    title_list = []\n",
    "#    for ix in range(len(titles)):\n",
    "#        title_list.append(titles[ix].text)\n",
    "    print \"Returned {0} articles\".format(len(articles))\n",
    "    print \"Status: \", r.status_code\n",
    "    return articles #, title_list, good_urls\n",
    "    #return title_list, urls, links, pdfs"
   ]
  },
  {
   "cell_type": "code",
   "execution_count": 20,
   "metadata": {
    "collapsed": false
   },
   "outputs": [],
   "source": [
    "#test_url = 'http://lanl.arxiv.org/list/math.NT/1509?show=5'"
   ]
  },
  {
   "cell_type": "code",
   "execution_count": 21,
   "metadata": {
    "collapsed": false
   },
   "outputs": [],
   "source": [
    "# name = NT_names[0]\n",
    "# with open(name, 'w') as f:\n",
    "#     pickle.dump(stuff, f)"
   ]
  },
  {
   "cell_type": "code",
   "execution_count": 22,
   "metadata": {
    "collapsed": false
   },
   "outputs": [],
   "source": [
    "# for url, name in zip(small_NT, small_NT_names):\n",
    "#     stuff = get_text2(url)\n",
    "#     with open(name, 'w') as f:\n",
    "#         pickle.dump(stuff, f)"
   ]
  },
  {
   "cell_type": "code",
   "execution_count": 23,
   "metadata": {
    "collapsed": true
   },
   "outputs": [],
   "source": [
    "def parsePDF2(url):\n",
    "\n",
    "    # Open the url provided as an argument to the function and read the content\n",
    "    try:\n",
    "        open = urllib2.urlopen(Request(url[0])).read()\n",
    "\n",
    "        # Cast to StringIO object\n",
    "        from StringIO import StringIO\n",
    "        memory_file = StringIO(open)\n",
    "\n",
    "        # Create a PDF parser object associated with the StringIO object\n",
    "        parser = PDFParser(memory_file)\n",
    "\n",
    "        # Create a PDF document object that stores the document structure\n",
    "        document = PDFDocument(parser)\n",
    "\n",
    "        # Define parameters to the PDF device objet\n",
    "        rsrcmgr = PDFResourceManager()\n",
    "        retstr = StringIO()\n",
    "        laparams = LAParams()\n",
    "        codec = 'utf-8'\n",
    "\n",
    "        # Create a PDF device object\n",
    "        device = TextConverter(rsrcmgr, retstr, codec = codec, laparams = laparams)\n",
    "\n",
    "        # Create a PDF interpreter object\n",
    "        interpreter = PDFPageInterpreter(rsrcmgr, device)\n",
    "\n",
    "        # Process each page contained in the document\n",
    "        for page in PDFPage.create_pages(document):\n",
    "            interpreter.process_page(page)\n",
    "            data =  retstr.getvalue()\n",
    "        sl = random.randint(0,30)\n",
    "        #print \"Time to sleep for {0} seconds\".format(sl)\n",
    "        time.sleep(sl)\n",
    "        return data, url[0], url[1]\n",
    "\n",
    "    except: \n",
    "        x = random.randint(5,15)\n",
    "        #print \"Didn't work, try again in {0} seconds\".format(x)\n",
    "        time.sleep(x)\n",
    "        try:\n",
    "            open = urllib2.urlopen(Request(url[0])).read()\n",
    "\n",
    "            # Cast to StringIO object\n",
    "            from StringIO import StringIO\n",
    "            memory_file = StringIO(open)\n",
    "\n",
    "            # Create a PDF parser object associated with the StringIO object\n",
    "            parser = PDFParser(memory_file)\n",
    "\n",
    "            # Create a PDF document object that stores the document structure\n",
    "            document = PDFDocument(parser)\n",
    "\n",
    "            # Define parameters to the PDF device objet\n",
    "            rsrcmgr = PDFResourceManager()\n",
    "            retstr = StringIO()\n",
    "            laparams = LAParams()\n",
    "            codec = 'utf-8'\n",
    "\n",
    "            # Create a PDF device object\n",
    "            device = TextConverter(rsrcmgr, retstr, codec = codec, laparams = laparams)\n",
    "\n",
    "            # Create a PDF interpreter object\n",
    "            interpreter = PDFPageInterpreter(rsrcmgr, device)\n",
    "\n",
    "            # Process each page contained in the document\n",
    "            for page in PDFPage.create_pages(document):\n",
    "                interpreter.process_page(page)\n",
    "                data =  retstr.getvalue()\n",
    "            return data, url[0], url[1]\n",
    "        except:\n",
    "            #print \"Sorry, can't get this paper\"\n",
    "            time.sleep(random.randint(5,10))\n",
    "            "
   ]
  },
  {
   "cell_type": "code",
   "execution_count": 24,
   "metadata": {
    "collapsed": false
   },
   "outputs": [],
   "source": [
    "#%time arts = get_text2('http://lanl.arxiv.org/list/math.NT/1501?show=250')"
   ]
  },
  {
   "cell_type": "code",
   "execution_count": 25,
   "metadata": {
    "collapsed": false
   },
   "outputs": [
    {
     "data": {
      "text/plain": [
       "'NT_1404_new.pkl'"
      ]
     },
     "execution_count": 25,
     "metadata": {},
     "output_type": "execute_result"
    }
   ],
   "source": [
    "small_NT_names[8]"
   ]
  },
  {
   "cell_type": "code",
   "execution_count": 26,
   "metadata": {
    "collapsed": false
   },
   "outputs": [],
   "source": [
    "# %%time\n",
    "# arts = get_text2(small_NT_urls[8])\n",
    "# good_type = 0\n",
    "# bad_type = 0\n",
    "# good_arts = []\n",
    "# for ix in range(len(arts)):\n",
    "#     if type(arts[ix]) == tuple:\n",
    "#         good_type += 1\n",
    "#         good_arts.append(arts[ix])\n",
    "#     else:\n",
    "#         bad_type += 1\n",
    "# print \"Good: \", good_type\n",
    "# print \"Good again: \", len(good_arts)\n",
    "# print \"Bad: \", bad_type\n",
    "# with open(small_NT_names[8], 'w') as f:\n",
    "#     pickle.dump(good_arts, f)"
   ]
  },
  {
   "cell_type": "code",
   "execution_count": null,
   "metadata": {
    "collapsed": false
   },
   "outputs": [],
   "source": [
    "\n"
   ]
  },
  {
   "cell_type": "code",
   "execution_count": 27,
   "metadata": {
    "collapsed": false
   },
   "outputs": [],
   "source": [
    "# text = []\n",
    "# for article in good_arts:\n",
    "#     text.append(article[0])"
   ]
  },
  {
   "cell_type": "code",
   "execution_count": 28,
   "metadata": {
    "collapsed": false
   },
   "outputs": [],
   "source": [
    "# good_type = 0\n",
    "# bad_type = 0\n",
    "# better_arts = []\n",
    "# for ix in range(len(good_arts)):\n",
    "#     if type(good_arts[ix][2]) == str:\n",
    "#         good_type += 1\n",
    "#         better_arts.append(good_arts[ix])\n",
    "#     else:\n",
    "#         bad_type += 1\n",
    "# print good_type\n",
    "# print len(better_arts)\n",
    "# print bad_type"
   ]
  },
  {
   "cell_type": "code",
   "execution_count": 29,
   "metadata": {
    "collapsed": false
   },
   "outputs": [
    {
     "name": "stdout",
     "output_type": "stream",
     "text": [
      "200\n",
      "32\n",
      "[u'math.NA', u'math.DG', u'math.HO', u'math.FA', u'math.DS', u'math.PR', u'math.LO', u'math.RA', u'math.NT', u'math.GR', u'math.CO', u'math.AG', u'math.GT', u'math.AC', u'math.IT', u'math.CA', u'math.AT', u'math.AP', u'math.CV', u'math.RT', u'math.CT', u'math.GN', u'math.GM', u'math.MG', u'math.OC', u'math.ST', u'math.OA', u'math.SP', u'math.MP', u'math.KT', u'math.QA', u'math.SG']\n"
     ]
    }
   ],
   "source": [
    "r = requests.get('http://lanl.arxiv.org/archive/math', headers={'User-agent': 'Mozilla/5.0'})\n",
    "soup = BeautifulSoup(r.text, 'html.parser')\n",
    "print r.status_code\n",
    "match_math = re.findall(r'math\\.\\w\\w', soup.text)\n",
    "match_math = list(set(match_math))\n",
    "print len(match_math)\n",
    "print match_math"
   ]
  },
  {
   "cell_type": "code",
   "execution_count": 30,
   "metadata": {
    "collapsed": false
   },
   "outputs": [
    {
     "name": "stdout",
     "output_type": "stream",
     "text": [
      "math_NA_June.pkl\n",
      "http://lanl.arxiv.org/list/math.NA/1506?show=250\n"
     ]
    }
   ],
   "source": [
    "front = 'http://lanl.arxiv.org/list/'\n",
    "end = '/1506?show=250'\n",
    "math_urls = [front+x+end for x in match_math]\n",
    "math_tags = [x[-2:] for x in match_math]\n",
    "math_names = ['math_'+ x + '_June.pkl' for x in math_tags]\n",
    "print math_names[0]\n",
    "print math_urls[0]"
   ]
  },
  {
   "cell_type": "code",
   "execution_count": 31,
   "metadata": {
    "collapsed": true
   },
   "outputs": [],
   "source": [
    "def parsePDF3(url):\n",
    "\n",
    "    # Open the url provided as an argument to the function and read the content\n",
    "    try:\n",
    "        open = urllib2.urlopen(Request(url[0])).read()\n",
    "\n",
    "        # Cast to StringIO object\n",
    "        from StringIO import StringIO\n",
    "        memory_file = StringIO(open)\n",
    "\n",
    "        # Create a PDF parser object associated with the StringIO object\n",
    "        parser = PDFParser(memory_file)\n",
    "\n",
    "        # Create a PDF document object that stores the document structure\n",
    "        document = PDFDocument(parser)\n",
    "\n",
    "        # Define parameters to the PDF device objet\n",
    "        rsrcmgr = PDFResourceManager()\n",
    "        retstr = StringIO()\n",
    "        laparams = LAParams()\n",
    "        codec = 'utf-8'\n",
    "\n",
    "        # Create a PDF device object\n",
    "        device = TextConverter(rsrcmgr, retstr, codec = codec, laparams = laparams)\n",
    "\n",
    "        # Create a PDF interpreter object\n",
    "        interpreter = PDFPageInterpreter(rsrcmgr, device)\n",
    "\n",
    "        # Process each page contained in the document\n",
    "        for page in PDFPage.create_pages(document):\n",
    "            interpreter.process_page(page)\n",
    "            data =  retstr.getvalue()\n",
    "        sl = random.randint(0,30)\n",
    "        #print \"Time to sleep for {0} seconds\".format(sl)\n",
    "        time.sleep(sl)\n",
    "        return data, url[0], url[1], 'DG'\n",
    "\n",
    "    except: \n",
    "        x = random.randint(5,15)\n",
    "        #print \"Didn't work, try again in {0} seconds\".format(x)\n",
    "        time.sleep(x)\n",
    "        try:\n",
    "            open = urllib2.urlopen(Request(url[0])).read()\n",
    "\n",
    "            # Cast to StringIO object\n",
    "            from StringIO import StringIO\n",
    "            memory_file = StringIO(open)\n",
    "\n",
    "            # Create a PDF parser object associated with the StringIO object\n",
    "            parser = PDFParser(memory_file)\n",
    "\n",
    "            # Create a PDF document object that stores the document structure\n",
    "            document = PDFDocument(parser)\n",
    "\n",
    "            # Define parameters to the PDF device objet\n",
    "            rsrcmgr = PDFResourceManager()\n",
    "            retstr = StringIO()\n",
    "            laparams = LAParams()\n",
    "            codec = 'utf-8'\n",
    "\n",
    "            # Create a PDF device object\n",
    "            device = TextConverter(rsrcmgr, retstr, codec = codec, laparams = laparams)\n",
    "\n",
    "            # Create a PDF interpreter object\n",
    "            interpreter = PDFPageInterpreter(rsrcmgr, device)\n",
    "\n",
    "            # Process each page contained in the document\n",
    "            for page in PDFPage.create_pages(document):\n",
    "                interpreter.process_page(page)\n",
    "                data =  retstr.getvalue()\n",
    "            return data, url[0], url[1], label, 'HO'\n",
    "        except:\n",
    "            #print \"Sorry, can't get this paper\"\n",
    "            time.sleep(random.randint(5,10))"
   ]
  },
  {
   "cell_type": "code",
   "execution_count": 32,
   "metadata": {
    "collapsed": true
   },
   "outputs": [],
   "source": [
    "def get_text3(url):\n",
    "    '''Input a URL from the arxiv (page of a list of papers), return a list of\n",
    "    parsed articles (list of strings)\n",
    "    '''\n",
    "\n",
    "    #session = requesocks.session()\n",
    "\n",
    "# #Use Tor for both HTTP and HTTPS\n",
    "    #session.proxies = {'http': 'socks5://127.0.0.1:9150', 'https': 'socks5://127.0.0.1:9150'}\n",
    "\n",
    "\n",
    "#http://lanl.arxiv.org/pdf/1508.00039.pdf\n",
    "\n",
    "    base_url = url\n",
    "    r = requests.get(base_url, headers={'User-agent': 'Mozilla/5.0'})\n",
    "    #print r.status_code\n",
    "    #r = session.get(base_url, headers={'User-agent': 'Mozilla/5.0'})\n",
    "    print \"Status: \", r.status_code\n",
    "\n",
    "    soup = BeautifulSoup(r.text, 'html.parser')\n",
    "    pdfs = soup.findAll(title = 'Download PDF')\n",
    "    links = [str(pdf).split()[1].strip('href=\"') for pdf in pdfs]\n",
    "    urls = ['http://lanl.arxiv.org'+ link for link in links]\n",
    "    titles = soup.findAll(class_=\"list-title\")\n",
    "    title_list = []\n",
    "    for ix in range(len(titles)):\n",
    "        title_list.append(titles[ix].text)\n",
    "    url_title = zip(urls, title_list)\n",
    "    \n",
    "    articles = []\n",
    "    failed = []\n",
    "    good_urls = []\n",
    "    pool = multiprocessing.Pool(processes=4)\n",
    "    articles = pool.map(parsePDF3, url_title)\n",
    "    \n",
    "#     index = 0\n",
    "#     for url in urls:\n",
    "#         print index\n",
    "#         try:\n",
    "#             text = parsePDF(url)\n",
    "#             articles.append(text)\n",
    "#             title_list.append(titles[index].text)\n",
    "#             good_urls.append(url)\n",
    "#             print \"Articles: \", len(articles)\n",
    "#             print \"Titles: \", len(title_list)\n",
    "#             x=random.randint(0,30)\n",
    "#             print \"Sleep now, {0} seconds\".format(x)\n",
    "#             time.sleep(x)\n",
    "#             index += 1\n",
    "#         except:\n",
    "#             print 'unexpected error'\n",
    "#             failed.append((url, index))\n",
    "#             print \"Num Failed: \", len(failed)\n",
    "#             index += 1\n",
    "    \n",
    "\n",
    "#     for pair in failed: \n",
    "#         print pair[0]\n",
    "#         try: \n",
    "#             articles.append(parsePDF(pair[0]))\n",
    "#             title_list.append(titles[pair[1]].text)\n",
    "#             good_urls.append(pair[0])\n",
    "#             print \"articles: \", len(articles)\n",
    "#             print \"titles: \", len(title_list)\n",
    "#             x=random.randint(0,30)\n",
    "#             print \"Sleep now, {0} seconds\".format(x)\n",
    "#             time.sleep(random.randint(0,30))\n",
    "#         except:\n",
    "#             print 'unexpected error'\n",
    "            \n",
    "#     print 'Num failures: ', len(failed)\n",
    "#     print 'Num articles: ', len(articles)\n",
    "            \n",
    "#    titles = soup.findAll(class_=\"list-title\")\n",
    "#    title_list = []\n",
    "#    for ix in range(len(titles)):\n",
    "#        title_list.append(titles[ix].text)\n",
    "    print \"Returned {0} articles\".format(len(articles))\n",
    "    print \"Status: \", r.status_code\n",
    "    return articles #, title_list, good_urls\n",
    "    #return title_list, urls, links, pdfs"
   ]
  },
  {
   "cell_type": "code",
   "execution_count": 33,
   "metadata": {
    "collapsed": false
   },
   "outputs": [
    {
     "name": "stdout",
     "output_type": "stream",
     "text": [
      "HO\n",
      "http://lanl.arxiv.org/list/math.HO/1506?show=250\n",
      "math_HO_June.pkl\n"
     ]
    }
   ],
   "source": [
    "print math_tags[2]\n",
    "print math_urls[2]\n",
    "print math_names[2]"
   ]
  },
  {
   "cell_type": "code",
   "execution_count": null,
   "metadata": {
    "collapsed": false
   },
   "outputs": [
    {
     "name": "stdout",
     "output_type": "stream",
     "text": [
      "Status:  200\n",
      "Returned 180 articles\n",
      "Status:  200\n",
      "Good:  94\n",
      "Good again:  94\n",
      "Bad:  86\n",
      "Status:  200\n"
     ]
    }
   ],
   "source": [
    "%%time\n",
    "for url, name in zip(NT_urls[:3], NT_names[:3]):\n",
    "    arts = get_text2(url)\n",
    "    good_type = 0\n",
    "    bad_type = 0\n",
    "    good_arts = []\n",
    "    for ix in range(len(arts)):\n",
    "        if type(arts[ix]) == tuple:\n",
    "            good_type += 1\n",
    "            good_arts.append(arts[ix])\n",
    "        else:\n",
    "            bad_type += 1\n",
    "    print \"Good: \", good_type\n",
    "    print \"Good again: \", len(good_arts)\n",
    "    print \"Bad: \", bad_type\n",
    "    for ix in range(len(good_arts)):\n",
    "        good_arts[ix] += ('NT',)\n",
    "    with open(name, 'w') as f:\n",
    "        pickle.dump(good_arts, f)"
   ]
  },
  {
   "cell_type": "code",
   "execution_count": 23,
   "metadata": {
    "collapsed": false
   },
   "outputs": [
    {
     "data": {
      "text/plain": [
       "u'AP'"
      ]
     },
     "execution_count": 23,
     "metadata": {},
     "output_type": "execute_result"
    }
   ],
   "source": [
    "math_tags[17]"
   ]
  },
  {
   "cell_type": "code",
   "execution_count": 84,
   "metadata": {
    "collapsed": false
   },
   "outputs": [
    {
     "data": {
      "text/plain": [
       "'DG'"
      ]
     },
     "execution_count": 84,
     "metadata": {},
     "output_type": "execute_result"
    }
   ],
   "source": [
    "good_arts[0][3]"
   ]
  },
  {
   "cell_type": "code",
   "execution_count": null,
   "metadata": {
    "collapsed": true
   },
   "outputs": [],
   "source": []
  }
 ],
 "metadata": {
  "kernelspec": {
   "display_name": "Python 2",
   "language": "python",
   "name": "python2"
  },
  "language_info": {
   "codemirror_mode": {
    "name": "ipython",
    "version": 2
   },
   "file_extension": ".py",
   "mimetype": "text/x-python",
   "name": "python",
   "nbconvert_exporter": "python",
   "pygments_lexer": "ipython2",
   "version": "2.7.10"
  }
 },
 "nbformat": 4,
 "nbformat_minor": 0
}
